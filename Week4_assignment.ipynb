{
  "nbformat": 4,
  "nbformat_minor": 0,
  "metadata": {
    "colab": {
      "provenance": [],
      "collapsed_sections": [],
      "authorship_tag": "ABX9TyPm3JamFJ/AWhZO4zUqrptq",
      "include_colab_link": true
    },
    "kernelspec": {
      "name": "python3",
      "display_name": "Python 3"
    },
    "language_info": {
      "name": "python"
    }
  },
  "cells": [
    {
      "cell_type": "markdown",
      "metadata": {
        "id": "view-in-github",
        "colab_type": "text"
      },
      "source": [
        "<a href=\"https://colab.research.google.com/github/Jun-KY/Python/blob/main/Week4_assignment.ipynb\" target=\"_parent\"><img src=\"https://colab.research.google.com/assets/colab-badge.svg\" alt=\"Open In Colab\"/></a>"
      ]
    },
    {
      "cell_type": "code",
      "execution_count": null,
      "metadata": {
        "colab": {
          "base_uri": "https://localhost:8080/"
        },
        "id": "1hZewPgXz3ec",
        "outputId": "8d9c39aa-eb97-49e9-90bc-66fa884171d6"
      },
      "outputs": [
        {
          "output_type": "stream",
          "name": "stdout",
          "text": [
            "dpg\n",
            "duck\n",
            "pony\n",
            "cat\n"
          ]
        }
      ],
      "source": [
        "animal = ['dpg', 'duck', 'pony', 'donkey', 'giraffe', 'elephant','cat']\n",
        "for i in animal:\n",
        "    if len(i) < 5:\n",
        "        print(i)"
      ]
    },
    {
      "cell_type": "code",
      "source": [
        "# <div>abc</div><p><em><i>test test test</b></em></p>\n",
        "# <div><div><b></b></div></p>"
      ],
      "metadata": {
        "id": "zMc0NnUnMDj-"
      },
      "execution_count": null,
      "outputs": []
    },
    {
      "cell_type": "code",
      "source": [
        "qz = input(\"Input: \")\n",
        "# print(qz)\n",
        "qz = qz.replace('<','')\n",
        "# print(qz)\n",
        "qz = qz.split('>')\n",
        "qz.pop(-1)\n",
        "# print(qz)\n",
        "while True:\n",
        "    if ('/'+i) in qz:\n",
        "        qz.remove('/'+i)\n",
        "        print(qz)\n",
        "        qz.remove(i)\n",
        "        print(qz)\n",
        "    else:\n",
        "        break\n",
        "print(qz)\n",
        "find_qz = chr(47)\n",
        "# print(len(qz))\n",
        "delete = [i for i in range(len(qz)) if find_qz in qz[i]]\n",
        "# print(delete)\n",
        "i = 0\n",
        "# print(len(qz))\n",
        "# print(len(delete))\n",
        "for i in range(len(delete),0,-1):\n",
        "    rem = delete[i-1]\n",
        "    # print(i)\n",
        "    # print(len(qz))\n",
        "    del qz[rem]\n",
        "for i in qz:\n",
        "    print(f'{i}', end = ' ')"
      ],
      "metadata": {
        "colab": {
          "base_uri": "https://localhost:8080/"
        },
        "id": "QrFGyTnW9pe7",
        "outputId": "277f7e92-9660-4b0e-af58-7dc935e3ed5a"
      },
      "execution_count": null,
      "outputs": [
        {
          "output_type": "stream",
          "name": "stdout",
          "text": [
            "Input: <div>abc</div><p><em><i>test test test</b></em></p>\n",
            "['div', 'abc/div', 'p', 'em', 'i', 'test test test/b', '/em', '/p']\n",
            "div p em i "
          ]
        }
      ]
    }
  ]
}