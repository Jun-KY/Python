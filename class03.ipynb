{
  "nbformat": 4,
  "nbformat_minor": 0,
  "metadata": {
    "colab": {
      "provenance": [],
      "collapsed_sections": [],
      "authorship_tag": "ABX9TyNowXxz2WbtpLoeOFxjFA47",
      "include_colab_link": true
    },
    "kernelspec": {
      "name": "python3",
      "display_name": "Python 3"
    },
    "language_info": {
      "name": "python"
    }
  },
  "cells": [
    {
      "cell_type": "markdown",
      "metadata": {
        "id": "view-in-github",
        "colab_type": "text"
      },
      "source": [
        "<a href=\"https://colab.research.google.com/github/Jun-KY/Python/blob/main/class03.ipynb\" target=\"_parent\"><img src=\"https://colab.research.google.com/assets/colab-badge.svg\" alt=\"Open In Colab\"/></a>"
      ]
    },
    {
      "cell_type": "code",
      "execution_count": 3,
      "metadata": {
        "colab": {
          "base_uri": "https://localhost:8080/"
        },
        "id": "mficSwb9o6SF",
        "outputId": "3353fc7d-65e0-491b-86eb-15ad5a8b15ef"
      },
      "outputs": [
        {
          "output_type": "stream",
          "name": "stdout",
          "text": [
            "숫자 입력: 2\n",
            "10보다 작은 숫자입니다.\n",
            "프로그램을 종료합니다.\n"
          ]
        }
      ],
      "source": [
        "num = int(input(\"숫자 입력: \"))\n",
        "if num < 10:\n",
        "    print('10보다 작은 숫자입니다.')\n",
        "else:   \n",
        "    print('10또는 10보다 큰 수입니다.')\n",
        "print('프로그램을 종료합니다.')\n"
      ]
    },
    {
      "cell_type": "code",
      "source": [
        "for i in range(0,3):\n",
        "    age = int(input(\"나이: \"))\n",
        "    if age >=14:\n",
        "        if age< 20:\n",
        "            print(\"중고생\")\n",
        "        else: \n",
        "            print(\"대학생\")\n",
        "    else:\n",
        "        print('초등학생')"
      ],
      "metadata": {
        "colab": {
          "base_uri": "https://localhost:8080/"
        },
        "id": "t9ra5oLPyWuo",
        "outputId": "156f9718-77ec-4501-c1bc-45093b8295eb"
      },
      "execution_count": 9,
      "outputs": [
        {
          "output_type": "stream",
          "name": "stdout",
          "text": [
            "나이: 120\n",
            "대학생\n",
            "나이: 23\n",
            "대학생\n",
            "나이: 11\n",
            "초등학생\n"
          ]
        }
      ]
    },
    {
      "cell_type": "code",
      "source": [
        "score = int(input('점수: '))\n",
        "\n",
        "if score>=90:\n",
        "    print(\"A\")\n",
        "else: \n",
        "    if score>=80:\n",
        "        print(\"B\")\n",
        "    else: \n",
        "        if score>=70:\n",
        "            print(\"C\")\n",
        "        else: \n",
        "            if score>=60:\n",
        "                print(\"D\")\n",
        "            else: \n",
        "                print(\"F\")"
      ],
      "metadata": {
        "colab": {
          "base_uri": "https://localhost:8080/"
        },
        "id": "V_dOxVWzzsu7",
        "outputId": "ad6c503f-ed86-49bc-f25d-90a81f87d3ff"
      },
      "execution_count": 11,
      "outputs": [
        {
          "output_type": "stream",
          "name": "stdout",
          "text": [
            "점수: 12\n",
            "F\n"
          ]
        }
      ]
    },
    {
      "cell_type": "code",
      "source": [
        "score = int(input('점수: '))\n",
        "if score>=90:\n",
        "    result = 'A'\n",
        "elif score>=80:\n",
        "    result = 'B'\n",
        "elif score>=70:\n",
        "    result = 'C'\n",
        "elif score>=70:\n",
        "    result = 'D'\n",
        "else:\n",
        "    result = 'F'\n",
        "print('결과',result)"
      ],
      "metadata": {
        "colab": {
          "base_uri": "https://localhost:8080/"
        },
        "id": "EvVzCi130SBS",
        "outputId": "54d04344-d92f-4210-ae9b-9f0d9a80edfd"
      },
      "execution_count": 12,
      "outputs": [
        {
          "output_type": "stream",
          "name": "stdout",
          "text": [
            "점수: 34\n",
            "결과 F\n"
          ]
        }
      ]
    },
    {
      "cell_type": "code",
      "source": [
        "score=[]\n",
        "a = int(input('소프트웨어 설계: '))\n",
        "b = int(input('소프트웨어 개발: '))\n",
        "c = int(input('데이터베이스 구축: '))\n",
        "d = int(input('프로그래밍언어 활용: '))\n",
        "e = int(input('정보시스템 구축 관리: '))\n",
        "score.append(a)\n",
        "score.append(b)\n",
        "score.append(c)\n",
        "score.append(d)\n",
        "score.append(e)\n",
        "\n",
        "sum = a+b+c+d+e\n",
        "avg = sum/5\n",
        "print('평균:',avg)\n",
        "\n",
        "if avg >= 60:\n",
        "    for(i) in score:\n",
        "        if i >= 40:\n",
        "            res = \"합격\"\n",
        "        else:\n",
        "            res = \"불합격\"\n",
        "            break;\n",
        "else: \n",
        "    res = \"불합격\"\n",
        "print('결과: ',res)\n",
        "\n",
        "\n",
        "\n"
      ],
      "metadata": {
        "id": "Cls3S0_Vr3a7"
      },
      "execution_count": null,
      "outputs": []
    },
    {
      "cell_type": "code",
      "source": [
        "score = float(input(\"이번 학기 학점: \"))\n",
        "if score >= 4.0:\n",
        "    res1 = '장학금 신청 대상'\n",
        "else:\n",
        "    res1 = '장학금 학점 미달'\n",
        "\n",
        "print(res1)"
      ],
      "metadata": {
        "id": "WgFSIYnur50V"
      },
      "execution_count": null,
      "outputs": []
    },
    {
      "cell_type": "code",
      "source": [
        "num = int(input('숫자: '))\n",
        "if num !=0:\n",
        "    if num%2==1:\n",
        "        ans = '홀수'\n",
        "    else:\n",
        "        ans = '짝수'\n",
        "    print(f'입력한 수 {num}은(는) {ans}이다. ')\n",
        "else: \n",
        "    print(f'입력한 수는 {num}.')"
      ],
      "metadata": {
        "id": "hiL_AIZmr6y7"
      },
      "execution_count": null,
      "outputs": []
    },
    {
      "cell_type": "code",
      "source": [
        "for i in range(0,3):\n",
        "    number = int(input(\"숫자: \"))\n",
        "    if 50 <= number <= 100 :\n",
        "        answer = \"50보다 크거나 같고 100보다 작거나 같습니다.\"\n",
        "    elif number < 50:\n",
        "        answer = '50보다 작습니다.'\n",
        "    else:\n",
        "        answer = '100보다 큽니다.'\n",
        "    print(f\"입력한 수 {number}은(는) {answer}\")\n"
      ],
      "metadata": {
        "id": "-BHum8ivr9LR"
      },
      "execution_count": null,
      "outputs": []
    },
    {
      "cell_type": "code",
      "source": [
        "for i in range(0,3):\n",
        "    number = int(input(\"숫자: \"))\n",
        "    if number < 50:\n",
        "        answer = '50보다 작습니다.'\n",
        "    else:\n",
        "        if number <= 100:\n",
        "            answer = \"50보다 크거나 같고 100보다 작거나 같습니다.\"\n",
        "        else:\n",
        "            answer = '100보다 큽니다.'\n",
        "    print(f\"입력한 수 {number}은(는) {answer}\")\n"
      ],
      "metadata": {
        "id": "geO9YpvBr-Ch"
      },
      "execution_count": null,
      "outputs": []
    },
    {
      "cell_type": "code",
      "source": [
        "numb = int(input('0~9999 까지의 수:'))\n",
        "if numb/10 >= 100:\n",
        "    ans = '네 자릿수 숫자입니다.'\n",
        "elif numb/10 >= 10:\n",
        "    ans = '세 자릿수 숫자입니다.'\n",
        "elif numb/10 >= 1:\n",
        "    ans = '두 자릿수 숫자입니다.'\n",
        "else: \n",
        "    ans = '한 자릿수 숫자입니다.'\n",
        "print(ans)\n"
      ],
      "metadata": {
        "id": "2Ktxhgi3r97D"
      },
      "execution_count": null,
      "outputs": []
    },
    {
      "cell_type": "code",
      "source": [
        "fruit = [\"딸기\", '포도', '망고', '복숭아', '수박']\n",
        "search = input(\"검색: \")\n",
        "if search in fruit:\n",
        "    print(f\"맛있는 {search}가 있습니다.\")\n",
        "else:\n",
        "    print(f\"{search}이(가) 없습니다.\")"
      ],
      "metadata": {
        "id": "-H2jDcRUr9yZ"
      },
      "execution_count": null,
      "outputs": []
    },
    {
      "cell_type": "code",
      "source": [],
      "metadata": {
        "id": "jKYVtNVPr9rT"
      },
      "execution_count": null,
      "outputs": []
    },
    {
      "cell_type": "code",
      "source": [],
      "metadata": {
        "id": "3f1-y62Vr9kR"
      },
      "execution_count": null,
      "outputs": []
    }
  ]
}