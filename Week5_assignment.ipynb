{
  "nbformat": 4,
  "nbformat_minor": 0,
  "metadata": {
    "colab": {
      "provenance": [],
      "collapsed_sections": [],
      "authorship_tag": "ABX9TyP41ozmnrci0RTx2YVc0lND",
      "include_colab_link": true
    },
    "kernelspec": {
      "name": "python3",
      "display_name": "Python 3"
    },
    "language_info": {
      "name": "python"
    }
  },
  "cells": [
    {
      "cell_type": "markdown",
      "metadata": {
        "id": "view-in-github",
        "colab_type": "text"
      },
      "source": [
        "<a href=\"https://colab.research.google.com/github/Jun-KY/Python/blob/main/Week5_assignment.ipynb\" target=\"_parent\"><img src=\"https://colab.research.google.com/assets/colab-badge.svg\" alt=\"Open In Colab\"/></a>"
      ]
    },
    {
      "cell_type": "code",
      "execution_count": 19,
      "metadata": {
        "colab": {
          "base_uri": "https://localhost:8080/"
        },
        "id": "R1SG7QjT3W4w",
        "outputId": "164ce8e8-13a6-49d0-bdb4-220b83f714f6"
      },
      "outputs": [
        {
          "output_type": "stream",
          "name": "stdout",
          "text": [
            "Number:8\n",
            "8은(는) 소수가 아닙니다..\n"
          ]
        }
      ],
      "source": [
        "num = int(input('Number:'))\n",
        "for i in range(num-1, 1, -1):\n",
        "    if num % i == 0:\n",
        "        ans = '가 아닙니다..'\n",
        "        break\n",
        "    else:\n",
        "        ans = ' 입니다.'\n",
        "print(\"%d은(는) 소수%s\" %(num, ans))"
      ]
    },
    {
      "cell_type": "code",
      "source": [
        "for i in range(1, 6):\n",
        "    for k in range(0,i):\n",
        "        print('  ', end='')\n",
        "    for j in range(i,6,1):\n",
        "        print(j, end=' ')\n",
        "    print()"
      ],
      "metadata": {
        "colab": {
          "base_uri": "https://localhost:8080/"
        },
        "id": "4sUqednC6tJ4",
        "outputId": "b2675640-bae8-4f38-ebbf-fc7175bab208"
      },
      "execution_count": 26,
      "outputs": [
        {
          "output_type": "stream",
          "name": "stdout",
          "text": [
            "  1 2 3 4 5 \n",
            "    2 3 4 5 \n",
            "      3 4 5 \n",
            "        4 5 \n",
            "          5 \n"
          ]
        }
      ]
    },
    {
      "cell_type": "code",
      "source": [
        "flower = ['장미', '백합', '튤립', '국화', '수선화']\n",
        "for i in flower:\n",
        "    if(len(i)==3):\n",
        "        # print(len(i))\n",
        "        print(i)\n",
        "\n",
        "flower.append('해바라기')\n",
        "flower.sort(key=len, reverse = True)\n",
        "print (flower)"
      ],
      "metadata": {
        "colab": {
          "base_uri": "https://localhost:8080/"
        },
        "id": "pbwX4-qWLokq",
        "outputId": "14622c1d-6f13-4265-8b7e-35c9c547b0ea"
      },
      "execution_count": 27,
      "outputs": [
        {
          "output_type": "stream",
          "name": "stdout",
          "text": [
            "수선화\n",
            "['해바라기', '수선화', '장미', '백합', '튤립', '국화']\n"
          ]
        }
      ]
    }
  ]
}