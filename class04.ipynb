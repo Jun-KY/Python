{
  "nbformat": 4,
  "nbformat_minor": 0,
  "metadata": {
    "colab": {
      "provenance": [],
      "collapsed_sections": [],
      "authorship_tag": "ABX9TyM3eg0OUVhlvVtUFJ8XHSGC",
      "include_colab_link": true
    },
    "kernelspec": {
      "name": "python3",
      "display_name": "Python 3"
    },
    "language_info": {
      "name": "python"
    }
  },
  "cells": [
    {
      "cell_type": "markdown",
      "metadata": {
        "id": "view-in-github",
        "colab_type": "text"
      },
      "source": [
        "<a href=\"https://colab.research.google.com/github/Jun-KY/Python/blob/main/class04.ipynb\" target=\"_parent\"><img src=\"https://colab.research.google.com/assets/colab-badge.svg\" alt=\"Open In Colab\"/></a>"
      ]
    },
    {
      "cell_type": "code",
      "execution_count": null,
      "metadata": {
        "colab": {
          "base_uri": "https://localhost:8080/"
        },
        "id": "fGgB0-t2zBym",
        "outputId": "29ba3464-e7bc-4fe6-e693-b5f883b3e06b"
      },
      "outputs": [
        {
          "output_type": "stream",
          "name": "stdout",
          "text": [
            "0\n",
            "1\n",
            "2\n",
            "3\n",
            "4\n",
            "\n",
            "\n",
            "1\n",
            "2\n",
            "3\n",
            "4\n",
            "\n",
            "\n",
            "1 2 3 4 \n",
            "\n"
          ]
        }
      ],
      "source": [
        "for i in range(5):\n",
        "    print(i)\n",
        "\n",
        "print(\"\\n\")\n",
        "\n",
        "for i in range(1,5,1):\n",
        "    print(i)\n",
        "\n",
        "print(\"\\n\")\n",
        "\n",
        "for i in range(1,5,1):\n",
        "    print(i, end =' ')\n",
        "\n",
        "print(\"\\n\")"
      ]
    },
    {
      "cell_type": "code",
      "source": [
        "i = 0\n",
        "sum = 0\n",
        "for i in range(1, 11, 1):\n",
        "    sum += i\n",
        "print(f'1에서 10 사이 자연수의 합:', sum)"
      ],
      "metadata": {
        "colab": {
          "base_uri": "https://localhost:8080/"
        },
        "id": "-nt5FNTuzjEV",
        "outputId": "fbfef1d0-01de-4c09-f07a-c0359fec52b1"
      },
      "execution_count": null,
      "outputs": [
        {
          "output_type": "stream",
          "name": "stdout",
          "text": [
            "1에서 10 사이 자연수의 합: 55\n"
          ]
        }
      ]
    },
    {
      "cell_type": "code",
      "source": [
        "# 실습\n",
        "\n",
        "for i in range (5):\n",
        "    num = int(input('어떤 수: '))\n",
        "    if num % 2 == 0:\n",
        "        res = 'even'\n",
        "    else: \n",
        "        res = 'odd'\n",
        "    print(f\"{num} is {res}\")"
      ],
      "metadata": {
        "colab": {
          "base_uri": "https://localhost:8080/"
        },
        "id": "zsPSnWoGzzCc",
        "outputId": "fc6ab48f-5940-4dcc-fec1-516e3e3db9a4"
      },
      "execution_count": null,
      "outputs": [
        {
          "output_type": "stream",
          "name": "stdout",
          "text": [
            "어떤 수: 5\n",
            "5 is odd\n",
            "어떤 수: 3\n",
            "어떤 수: 2\n",
            "3 is odd\n",
            "2 is even\n",
            "어떤 수: 1\n",
            "1 is odd\n",
            "어떤 수: 3\n",
            "3 is odd\n"
          ]
        }
      ]
    },
    {
      "cell_type": "code",
      "source": [
        "for i in range(5, 0, -1):\n",
        "    print(i)"
      ],
      "metadata": {
        "colab": {
          "base_uri": "https://localhost:8080/"
        },
        "id": "Czagbjyh014v",
        "outputId": "3c8a9b69-82f3-4224-e879-f45c79366847"
      },
      "execution_count": null,
      "outputs": [
        {
          "output_type": "stream",
          "name": "stdout",
          "text": [
            "5\n",
            "4\n",
            "3\n",
            "2\n",
            "1\n"
          ]
        }
      ]
    },
    {
      "cell_type": "code",
      "source": [
        "num = [1,2,3,4,5]\n",
        "for i in num:\n",
        "    print(i)\n",
        "\n",
        "print(\"\\n\")\n",
        "\n",
        "for i in [1,2,3,4,5]:\n",
        "    print(i)"
      ],
      "metadata": {
        "colab": {
          "base_uri": "https://localhost:8080/"
        },
        "id": "lSsUEXMy1AyT",
        "outputId": "93b2a701-a99d-428b-995e-9a32d6025a83"
      },
      "execution_count": null,
      "outputs": [
        {
          "output_type": "stream",
          "name": "stdout",
          "text": [
            "1\n",
            "2\n",
            "3\n",
            "4\n",
            "5\n",
            "\n",
            "\n",
            "1\n",
            "2\n",
            "3\n",
            "4\n",
            "5\n"
          ]
        }
      ]
    },
    {
      "cell_type": "code",
      "source": [
        "alp = ['a','b','c','d','e']\n",
        "for i in alp[::-1]:\n",
        "    print(i)\n",
        "\n",
        "print(\"\\n\")\n",
        "\n",
        "for i in reversed(alp):\n",
        "    print(i)\n",
        "\n",
        "print(\"\\n\")\n",
        "\n",
        "alp.reverse()\n",
        "for i in alp:\n",
        "    print(i)"
      ],
      "metadata": {
        "colab": {
          "base_uri": "https://localhost:8080/"
        },
        "id": "OXQNnc7h1WHh",
        "outputId": "9c8b00a1-b2eb-4f8f-b6c4-e4b84aa0bb40"
      },
      "execution_count": null,
      "outputs": [
        {
          "output_type": "stream",
          "name": "stdout",
          "text": [
            "e\n",
            "d\n",
            "c\n",
            "b\n",
            "a\n",
            "\n",
            "\n",
            "e\n",
            "d\n",
            "c\n",
            "b\n",
            "a\n",
            "\n",
            "\n",
            "e\n",
            "d\n",
            "c\n",
            "b\n",
            "a\n"
          ]
        }
      ]
    },
    {
      "cell_type": "code",
      "source": [
        "zoo = ['rabbit', 'goat', 'tiger', 'lion', 'giraffe', 'zebra']\n",
        "for i in zoo[::-1]:\n",
        "    print(i, end=' ')\n",
        "\n",
        "print('\\n')\n",
        "\n",
        "for i in reversed(zoo):\n",
        "    # print(i)\n",
        "    print(f\"{i} : {len(i)}\")\n",
        "\n",
        "print(\"\\n\")\n",
        "for i in range(2):\n",
        "    j = input('내가좋아하는 동물? ')\n",
        "    if j in zoo:\n",
        "        print('%s는 동물원에 있습니다.'% j)\n",
        "    else:\n",
        "        print(f'{j}는 동물원에 없습니다.')"
      ],
      "metadata": {
        "colab": {
          "base_uri": "https://localhost:8080/"
        },
        "id": "s4K58pXi1Tg7",
        "outputId": "ffe657dd-0056-4269-f4e0-e3460a809348"
      },
      "execution_count": null,
      "outputs": [
        {
          "output_type": "stream",
          "name": "stdout",
          "text": [
            "zebra giraffe lion tiger goat rabbit \n",
            "\n",
            "zebra : 5\n",
            "giraffe : 7\n",
            "lion : 4\n",
            "tiger : 5\n",
            "goat : 4\n",
            "rabbit : 6\n",
            "\n",
            "\n",
            "내가좋아하는 동물? me\n",
            "me는 동물원에 없습니다.\n",
            "내가좋아하는 동물? zebra\n",
            "zebra는 동물원에 있습니다.\n"
          ]
        }
      ]
    },
    {
      "cell_type": "code",
      "source": [
        "cnt = 0;\n",
        "while cnt<5:\n",
        "    cnt = cnt +1\n",
        "    print(cnt)\n",
        "\n",
        "print('\\n')\n",
        "\n",
        "cnt = 1\n",
        "while cnt <=5:\n",
        "    print(cnt)\n",
        "    cnt = cnt+1\n",
        "\n",
        "print('\\n')\n",
        "\n",
        "i=0\n",
        "while True:\n",
        "    i += 1\n",
        "    print(i)\n",
        "    if i > 50:\n",
        "        break\n",
        "\n"
      ],
      "metadata": {
        "colab": {
          "base_uri": "https://localhost:8080/"
        },
        "id": "NUUoC__Q6x1A",
        "outputId": "0b989401-d5ec-4672-cc5d-cb407f245162"
      },
      "execution_count": null,
      "outputs": [
        {
          "output_type": "stream",
          "name": "stdout",
          "text": [
            "1\n",
            "2\n",
            "3\n",
            "4\n",
            "5\n",
            "\n",
            "\n",
            "1\n",
            "2\n",
            "3\n",
            "4\n",
            "5\n",
            "\n",
            "\n",
            "1\n",
            "2\n",
            "3\n",
            "4\n",
            "5\n",
            "6\n",
            "7\n",
            "8\n",
            "9\n",
            "10\n",
            "11\n",
            "12\n",
            "13\n",
            "14\n",
            "15\n",
            "16\n",
            "17\n",
            "18\n",
            "19\n",
            "20\n",
            "21\n",
            "22\n",
            "23\n",
            "24\n",
            "25\n",
            "26\n",
            "27\n",
            "28\n",
            "29\n",
            "30\n",
            "31\n",
            "32\n",
            "33\n",
            "34\n",
            "35\n",
            "36\n",
            "37\n",
            "38\n",
            "39\n",
            "40\n",
            "41\n",
            "42\n",
            "43\n",
            "44\n",
            "45\n",
            "46\n",
            "47\n",
            "48\n",
            "49\n",
            "50\n",
            "51\n"
          ]
        }
      ]
    },
    {
      "cell_type": "code",
      "source": [
        "i = 0\n",
        "while i < 5:\n",
        "    print(f'Python Program {i+1}번 출력')\n",
        "    i+=1"
      ],
      "metadata": {
        "colab": {
          "base_uri": "https://localhost:8080/"
        },
        "id": "3SQMM50f64A8",
        "outputId": "21d0724e-cb6b-4ca4-a9ca-8e924e707a29"
      },
      "execution_count": null,
      "outputs": [
        {
          "output_type": "stream",
          "name": "stdout",
          "text": [
            "Python Program 1번 출력\n",
            "Python Program 2번 출력\n",
            "Python Program 3번 출력\n",
            "Python Program 4번 출력\n",
            "Python Program 5번 출력\n"
          ]
        }
      ]
    },
    {
      "cell_type": "code",
      "source": [
        "ggd = int(input('구구단: '))\n",
        "i = 1\n",
        "while i < 10 :\n",
        "    print(f'{ggd} x {i} = {ggd*i}')\n",
        "    i += 1"
      ],
      "metadata": {
        "colab": {
          "base_uri": "https://localhost:8080/"
        },
        "id": "NcADZoyD8PMS",
        "outputId": "28137145-5c1d-46bd-b3dd-88ee53fbf7cf"
      },
      "execution_count": null,
      "outputs": [
        {
          "output_type": "stream",
          "name": "stdout",
          "text": [
            "구구단: 9\n",
            "9 x 1 = 9\n",
            "9 x 2 = 18\n",
            "9 x 3 = 27\n",
            "9 x 4 = 36\n",
            "9 x 5 = 45\n",
            "9 x 6 = 54\n",
            "9 x 7 = 63\n",
            "9 x 8 = 72\n",
            "9 x 9 = 81\n"
          ]
        }
      ]
    }
  ]
}