{
  "nbformat": 4,
  "nbformat_minor": 0,
  "metadata": {
    "colab": {
      "provenance": [],
      "collapsed_sections": [],
      "authorship_tag": "ABX9TyMfB/tIoyiFFeWeZcpHAlV1",
      "include_colab_link": true
    },
    "kernelspec": {
      "name": "python3",
      "display_name": "Python 3"
    },
    "language_info": {
      "name": "python"
    }
  },
  "cells": [
    {
      "cell_type": "markdown",
      "metadata": {
        "id": "view-in-github",
        "colab_type": "text"
      },
      "source": [
        "<a href=\"https://colab.research.google.com/github/Jun-KY/Python/blob/main/Week3_assessment.ipynb\" target=\"_parent\"><img src=\"https://colab.research.google.com/assets/colab-badge.svg\" alt=\"Open In Colab\"/></a>"
      ]
    },
    {
      "cell_type": "code",
      "source": [
        "code = int(input(\"교수 교과목 코드: \"))\n",
        "code_list = [1203,1250,1275,1290]\n",
        "class_list= ['파이썬 프로그래밍','컴퓨팅 사고', '빅 데이터','IoT']\n",
        "for i in range(0,4):\n",
        "    if code in code_list:\n",
        "        print(class_list[code_list.index(code)])\n",
        "        break\n",
        "else: \n",
        "    print('해당 강좌 없음')\n",
        "# print(len(code_list))"
      ],
      "metadata": {
        "colab": {
          "base_uri": "https://localhost:8080/"
        },
        "id": "eFfRwHmR7i7R",
        "outputId": "8bc8ce2a-3bcd-44f7-a07f-2d3c3cd34a89"
      },
      "execution_count": null,
      "outputs": [
        {
          "output_type": "stream",
          "name": "stdout",
          "text": [
            "교수 교과목 코드: 1203\n",
            "파이썬 프로그래밍\n"
          ]
        }
      ]
    },
    {
      "cell_type": "code",
      "source": [
        "choice = int(input('용도 - 1.주택용, 2.공업용, 3.산업용 :'))\n",
        "amount = int(input('사용량(kwh): '))\n",
        "org_list=[910, 1600, 7300]\n",
        "choice_list = [88, 182, 275]\n",
        "price = (org_list[choice-1]+choice_list[choice-1]*amount)\n",
        "if choice == 1:\n",
        "    print(f'용도: {choice}, 사용량: {amount:,.2f}, 전기요금: {price:,.2f}원')\n",
        "else:\n",
        "    if choice ==2:\n",
        "        print(f'용도: {choice}, 사용량: {amount:,.2f}, 전기요금: {price:,.2f}원')\n",
        "    else:\n",
        "        if choice == 3:\n",
        "            print(f'용도: {choice}, 사용량: {amount:,.2f}, 전기요금: {price:,.2f}원')\n",
        "        else: \n",
        "            print(\"다시 입력하세요\")\n",
        "\n"
      ],
      "metadata": {
        "colab": {
          "base_uri": "https://localhost:8080/"
        },
        "id": "00NEmwgJ80hZ",
        "outputId": "869704aa-0df8-4850-ef7f-e8086bde611e"
      },
      "execution_count": null,
      "outputs": [
        {
          "output_type": "stream",
          "name": "stdout",
          "text": [
            "용도 - 1.주택용, 2.공업용, 3.산업용 :3\n",
            "사용량(kwh): 100\n",
            "용도: 3, 사용량: 100, 전기요금: 34,800.00원\n"
          ]
        }
      ]
    },
    {
      "cell_type": "code",
      "source": [
        "weight = float(input(\"몸무게: \"))\n",
        "if weight <= 50.80:\n",
        "    value = 'Flyweight'\n",
        "elif weight <=61.23:\n",
        "    value = 'Lightweight'\n",
        "elif weight <= 72.57:\n",
        "    value = 'Middleweight'\n",
        "elif weight <= 88.45:\n",
        "    value = 'Cruiserweight'\n",
        "else:\n",
        "    value = 'Heavyweight'\n",
        "print(value)"
      ],
      "metadata": {
        "colab": {
          "base_uri": "https://localhost:8080/"
        },
        "id": "ue43pGDF94q9",
        "outputId": "bffe0169-1d91-4c3d-af5d-c9806184e35e"
      },
      "execution_count": null,
      "outputs": [
        {
          "output_type": "stream",
          "name": "stdout",
          "text": [
            "몸무게: 87.3\n",
            "Cruiserweight\n"
          ]
        }
      ]
    },
    {
      "cell_type": "code",
      "source": [
        "month = int(input(\"월 입력:\"))\n",
        "month_list = [31, 28, 31, 30, 31, 30, 31, 31, 30, 31, 30, 31]\n",
        "print(f\"{month}월은 {month_list[month-1]}일이다.\")\n"
      ],
      "metadata": {
        "colab": {
          "base_uri": "https://localhost:8080/"
        },
        "id": "xZVPBKMnCYef",
        "outputId": "316d2659-416c-4099-f5af-01e268a11eba"
      },
      "execution_count": null,
      "outputs": [
        {
          "output_type": "stream",
          "name": "stdout",
          "text": [
            "월 입력:11\n",
            "11월은 30일이다.\n"
          ]
        }
      ]
    },
    {
      "cell_type": "code",
      "source": [],
      "metadata": {
        "id": "Ny2zGhjVr0Yp"
      },
      "execution_count": null,
      "outputs": []
    },
    {
      "cell_type": "code",
      "source": [
        "number_list = []\n",
        "a=0;b=0;c=0;d=0;e=0;f=0;\n",
        "for i in range (0,10):\n",
        "    number_list.append(int(input(f'{i+1}회: ')))\n",
        "for j in range (0, 10):\n",
        "    if number_list[j] %6== 1: a+=1\n",
        "    elif number_list[j] %6== 2: b+=1\n",
        "    elif number_list[j] %6== 3: c+=1\n",
        "    elif number_list[j] %6== 4: d+=1\n",
        "    elif number_list[j] %6== 5: e+=1\n",
        "    elif number_list[j] %6== 0: f+=1\n",
        "print(f\"<결과>\\n1 : {a}\\n2 : {b}\\n3 : {c}\\n4 : {d}\\n5 : {e}\\n6 : {f}\")"
      ],
      "metadata": {
        "colab": {
          "base_uri": "https://localhost:8080/"
        },
        "id": "slZWzjcnDEYg",
        "outputId": "a6757ae9-d5a4-4c7f-cf48-47274270e2ec"
      },
      "execution_count": null,
      "outputs": [
        {
          "output_type": "stream",
          "name": "stdout",
          "text": [
            "1회: 5\n",
            "2회: 6\n",
            "3회: 3\n",
            "4회: 4\n",
            "5회: 5\n",
            "6회: 5\n",
            "7회: 2\n",
            "8회: 2\n",
            "9회: 4\n",
            "10회: 6\n",
            "<결과>\n",
            "1 : 0\n",
            "2 : 2\n",
            "3 : 1\n",
            "4 : 2\n",
            "5 : 3\n",
            "6 : 2\n"
          ]
        }
      ]
    },
    {
      "cell_type": "code",
      "source": [
        "num_list = list(map(int, input().split()))\n",
        "print(num_list)\n",
        "print(num_list.count(1))\n",
        "print(num_list.count(2))\n",
        "print(num_list.count(3))\n",
        "print(num_list.count(4))\n",
        "print(num_list.count(5))\n",
        "print(num_list.count(6))"
      ],
      "metadata": {
        "colab": {
          "base_uri": "https://localhost:8080/"
        },
        "id": "_eewWEBjL8Ik",
        "outputId": "835d4795-dc93-4741-c3af-2d300f5fc761"
      },
      "execution_count": null,
      "outputs": [
        {
          "output_type": "stream",
          "name": "stdout",
          "text": [
            "5 6 3 4 5 5 2 2 4 6\n",
            "[5, 6, 3, 4, 5, 5, 2, 2, 4, 6]\n",
            "0\n",
            "2\n",
            "1\n",
            "2\n",
            "3\n",
            "2\n"
          ]
        }
      ]
    },
    {
      "cell_type": "markdown",
      "source": [],
      "metadata": {
        "id": "jLWmG3_zDDfD"
      }
    }
  ]
}