{
  "nbformat": 4,
  "nbformat_minor": 0,
  "metadata": {
    "colab": {
      "provenance": [],
      "collapsed_sections": [],
      "authorship_tag": "ABX9TyOWmxxA2QAjFwHnQQ6qdjan",
      "include_colab_link": true
    },
    "kernelspec": {
      "name": "python3",
      "display_name": "Python 3"
    },
    "language_info": {
      "name": "python"
    }
  },
  "cells": [
    {
      "cell_type": "markdown",
      "metadata": {
        "id": "view-in-github",
        "colab_type": "text"
      },
      "source": [
        "<a href=\"https://colab.research.google.com/github/Jun-KY/Python/blob/main/01.ipynb\" target=\"_parent\"><img src=\"https://colab.research.google.com/assets/colab-badge.svg\" alt=\"Open In Colab\"/></a>"
      ]
    },
    {
      "cell_type": "code",
      "execution_count": 8,
      "metadata": {
        "colab": {
          "base_uri": "https://localhost:8080/"
        },
        "id": "ktKcW8ECnu0Z",
        "outputId": "3d0dbceb-5376-4007-ca4e-b69360736380"
      },
      "outputs": [
        {
          "output_type": "stream",
          "name": "stdout",
          "text": [
            "Hello world\n",
            "10\n"
          ]
        }
      ],
      "source": [
        "print(\"Hello world\")\n",
        "a = 10\n",
        "print(a)"
      ]
    },
    {
      "cell_type": "code",
      "source": [
        "10+10"
      ],
      "metadata": {
        "colab": {
          "base_uri": "https://localhost:8080/"
        },
        "id": "PFE2L14Yqn0V",
        "outputId": "82e7905b-d899-43b3-d014-3903b9c89ff0"
      },
      "execution_count": 9,
      "outputs": [
        {
          "output_type": "execute_result",
          "data": {
            "text/plain": [
              "20"
            ]
          },
          "metadata": {},
          "execution_count": 9
        }
      ]
    },
    {
      "cell_type": "code",
      "source": [
        "print(\"a\")"
      ],
      "metadata": {
        "colab": {
          "base_uri": "https://localhost:8080/"
        },
        "id": "GfXjZT1kq4eY",
        "outputId": "fbf3f58d-482c-4544-a8af-ce5a715e41c3"
      },
      "execution_count": 10,
      "outputs": [
        {
          "output_type": "stream",
          "name": "stdout",
          "text": [
            "a\n"
          ]
        }
      ]
    },
    {
      "cell_type": "code",
      "source": [
        "print(\"10 + 10 =\",10+10)"
      ],
      "metadata": {
        "colab": {
          "base_uri": "https://localhost:8080/"
        },
        "id": "wQfSaqB5q6ii",
        "outputId": "22194203-1092-492d-e711-f9b5097a5457"
      },
      "execution_count": 13,
      "outputs": [
        {
          "output_type": "stream",
          "name": "stdout",
          "text": [
            "10 + 10 = 20\n"
          ]
        }
      ]
    },
    {
      "cell_type": "code",
      "source": [
        "print(\"1 + 2 = \", 1+2, sep='$')"
      ],
      "metadata": {
        "colab": {
          "base_uri": "https://localhost:8080/"
        },
        "id": "rNifhsscsuAl",
        "outputId": "49738abc-c0e5-4224-a54b-9201deb86039"
      },
      "execution_count": 15,
      "outputs": [
        {
          "output_type": "stream",
          "name": "stdout",
          "text": [
            "1 + 2 = $3\n"
          ]
        }
      ]
    },
    {
      "cell_type": "code",
      "source": [
        "print(\"1 + 10 = \", 1+10)"
      ],
      "metadata": {
        "colab": {
          "base_uri": "https://localhost:8080/"
        },
        "id": "IBFy4V1ntCCt",
        "outputId": "07c63a8b-53c1-41f8-b83b-4e65acc90c08"
      },
      "execution_count": 18,
      "outputs": [
        {
          "output_type": "stream",
          "name": "stdout",
          "text": [
            "1 + 10 =  11\n"
          ]
        }
      ]
    },
    {
      "cell_type": "code",
      "source": [
        "print(1,2,3,4,5)"
      ],
      "metadata": {
        "colab": {
          "base_uri": "https://localhost:8080/"
        },
        "id": "Gacz4RsZtYz0",
        "outputId": "189832ae-38d8-4ddb-aad1-0e2feba7dafc"
      },
      "execution_count": 19,
      "outputs": [
        {
          "output_type": "stream",
          "name": "stdout",
          "text": [
            "1 2 3 4 5\n"
          ]
        }
      ]
    },
    {
      "cell_type": "code",
      "source": [
        "print(1,2,3,4,5, sep='')"
      ],
      "metadata": {
        "colab": {
          "base_uri": "https://localhost:8080/"
        },
        "id": "GKsi1kpftkwj",
        "outputId": "60fe317f-59ed-450a-e4d8-9486464466dd"
      },
      "execution_count": 21,
      "outputs": [
        {
          "output_type": "stream",
          "name": "stdout",
          "text": [
            "12345\n"
          ]
        }
      ]
    },
    {
      "cell_type": "code",
      "source": [
        "print(\"Python Program is great Program!\")\n",
        "print(\"Python\",\"Program\",\"is\",\"Great\",\"Program!\")"
      ],
      "metadata": {
        "colab": {
          "base_uri": "https://localhost:8080/"
        },
        "id": "Js6elyhqt2GL",
        "outputId": "224afa47-9df0-47b0-c230-71a5e3097d37"
      },
      "execution_count": 22,
      "outputs": [
        {
          "output_type": "stream",
          "name": "stdout",
          "text": [
            "Python Program is great Program!\n",
            "Python Program is Great Program!\n"
          ]
        }
      ]
    },
    {
      "cell_type": "code",
      "source": [
        "print(\"50+50의 합=\", 50+50)\n",
        "print(50,'+',50,\"의 합= \", 50+50,sep='')\n",
        "a = 50\n",
        "print(a,'+',a,'의 합= ', a+a, sep = '')"
      ],
      "metadata": {
        "colab": {
          "base_uri": "https://localhost:8080/"
        },
        "id": "kR5xKc4xxGXY",
        "outputId": "2ef72d75-6c8f-454a-d365-5cda7597df2d"
      },
      "execution_count": 26,
      "outputs": [
        {
          "output_type": "stream",
          "name": "stdout",
          "text": [
            "50+50의 합= 100\n",
            "50+50의 합= 100\n",
            "50+50의 합= 100\n"
          ]
        }
      ]
    },
    {
      "cell_type": "code",
      "source": [
        "name = 'dean'\n",
        "\n",
        "print(name)"
      ],
      "metadata": {
        "colab": {
          "base_uri": "https://localhost:8080/"
        },
        "id": "eset5aG80Z9Z",
        "outputId": "af2b7d6e-d4c8-4f6a-a81d-23d39eecf6ad"
      },
      "execution_count": 28,
      "outputs": [
        {
          "output_type": "stream",
          "name": "stdout",
          "text": [
            "dean\n"
          ]
        }
      ]
    },
    {
      "cell_type": "code",
      "source": [
        "name = '홍길동'\n",
        "age = '20'\n",
        "print(\"나의 이름은\",name+\"이고,\\n\"+'나이는', age+\"세이다.\")\n"
      ],
      "metadata": {
        "colab": {
          "base_uri": "https://localhost:8080/"
        },
        "id": "uhCOz_UZ0O-k",
        "outputId": "8cde673c-585a-4850-ba60-2ede28679e3a"
      },
      "execution_count": 32,
      "outputs": [
        {
          "output_type": "stream",
          "name": "stdout",
          "text": [
            "나의 이름은 홍길동이고,\n",
            "나이는 20세이다.\n"
          ]
        }
      ]
    },
    {
      "cell_type": "code",
      "source": [
        "name=\"홍길동\"\n",
        "kibon = 2000000\n",
        "bonus = 500000\n",
        "salary = kibon + bonus\n",
        "print(\"{0}씨 월급은 기본급 {1:,} 보너스 {2:,}, 총급여액 {3:,} 이다. \".format(name,kibon,bonus,salary))"
      ],
      "metadata": {
        "colab": {
          "base_uri": "https://localhost:8080/"
        },
        "id": "Bnl_V9Yb0jVx",
        "outputId": "60cadc66-13ba-4dac-97ec-2fcecd217834"
      },
      "execution_count": 3,
      "outputs": [
        {
          "output_type": "stream",
          "name": "stdout",
          "text": [
            "홍길동씨 월급은 기본급 2,000,000 보너스 500,000, 총급여액 2,500,000 이다. \n"
          ]
        }
      ]
    },
    {
      "cell_type": "code",
      "source": [
        "height = 176.72342\n",
        "\n",
        "print(\"나의 키는 \", height,'cm 입니다.', sep = '')\n",
        "print(\"나의 키는 {0:0,.2f}cm\".format(height))\n",
        "print(\"나의 키는 {0:.2f}cm\".format(height))"
      ],
      "metadata": {
        "colab": {
          "base_uri": "https://localhost:8080/"
        },
        "id": "aBuCAwaw1Rz5",
        "outputId": "1483c2c7-9b8a-4f2b-8d39-0a4fdfe2ad96"
      },
      "execution_count": 15,
      "outputs": [
        {
          "output_type": "stream",
          "name": "stdout",
          "text": [
            "나의 키는 176.72342cm 입니다.\n",
            "나의 키는 176.72cm\n",
            "나의 키는 176.72cm\n"
          ]
        }
      ]
    },
    {
      "cell_type": "code",
      "source": [
        "num1, num2, num3 = 100, 200, 300\n",
        "print(\"{0:d} {1:5d} {2:05}\".format(num1, num2, num3))"
      ],
      "metadata": {
        "colab": {
          "base_uri": "https://localhost:8080/"
        },
        "id": "BmhX1Wy75Ghy",
        "outputId": "64278a5c-0ad5-4474-adf3-99afc7bf14d8"
      },
      "execution_count": 20,
      "outputs": [
        {
          "output_type": "stream",
          "name": "stdout",
          "text": [
            "100   200 00300\n"
          ]
        }
      ]
    },
    {
      "cell_type": "code",
      "source": [
        "print(\"안녕하세요\\n딘입니다.\")\n",
        "print(\"안녕하세요\\n 딘입니다.\")\n",
        "print(\"안녕하세요\\t 딘입니다.\")\n",
        "print(\"안녕하세요\\b 딘입니다.\")\n",
        "print(\"안녕하세요\\\\ 딘입니다.\")"
      ],
      "metadata": {
        "colab": {
          "base_uri": "https://localhost:8080/"
        },
        "id": "yY3Xh31o6N3F",
        "outputId": "af47cf25-28be-472f-b502-d14a7143d2ca"
      },
      "execution_count": 25,
      "outputs": [
        {
          "output_type": "stream",
          "name": "stdout",
          "text": [
            "안녕하세요\n",
            "딘입니다.\n",
            "안녕하세요\n",
            " 딘입니다.\n",
            "안녕하세요\t 딘입니다.\n",
            "안녕하세요\b 딘입니다.\n",
            "안녕하세요\\ 딘입니다.\n"
          ]
        }
      ]
    },
    {
      "cell_type": "code",
      "source": [
        "a = 20\n",
        "b = 20\n",
        "print(\"직사각형의 넓이=\",a*b, sep='')"
      ],
      "metadata": {
        "colab": {
          "base_uri": "https://localhost:8080/"
        },
        "id": "TdmnKMie7w_r",
        "outputId": "a0821672-8918-4428-b8d9-a2978c6d8670"
      },
      "execution_count": 27,
      "outputs": [
        {
          "output_type": "stream",
          "name": "stdout",
          "text": [
            "직사각형의 넓이=400\n"
          ]
        }
      ]
    },
    {
      "cell_type": "code",
      "source": [
        "a = 100\n",
        "b = 80\n",
        "c = 75\n",
        "sum = a+b+c\n",
        "avg = (a+b+c)/3\n",
        "print(\"국어 :\",a)\n",
        "print(\"영어 :\",b)\n",
        "print(\"수학 :\",c)\n",
        "print(\"총점 :\",sum)\n",
        "print(\"평균 : {0:.2f}\".format(avg))"
      ],
      "metadata": {
        "colab": {
          "base_uri": "https://localhost:8080/"
        },
        "id": "VhumLedj8iaN",
        "outputId": "d11fd0ce-e9d3-4540-a46f-1ea201f75a6a"
      },
      "execution_count": 4,
      "outputs": [
        {
          "output_type": "stream",
          "name": "stdout",
          "text": [
            "국어 : 100\n",
            "영어 : 80\n",
            "수학 : 75\n",
            "총점 : 255\n",
            "평균 : 85.00\n"
          ]
        }
      ]
    },
    {
      "cell_type": "code",
      "source": [
        " "
      ],
      "metadata": {
        "id": "0BDYGIAw8yFT"
      },
      "execution_count": null,
      "outputs": []
    }
  ]
}