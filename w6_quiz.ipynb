{
  "nbformat": 4,
  "nbformat_minor": 0,
  "metadata": {
    "colab": {
      "provenance": [],
      "collapsed_sections": [],
      "authorship_tag": "ABX9TyOenIfHRZxr8SkWIZkUJOJZ",
      "include_colab_link": true
    },
    "kernelspec": {
      "name": "python3",
      "display_name": "Python 3"
    },
    "language_info": {
      "name": "python"
    }
  },
  "cells": [
    {
      "cell_type": "markdown",
      "metadata": {
        "id": "view-in-github",
        "colab_type": "text"
      },
      "source": [
        "<a href=\"https://colab.research.google.com/github/Jun-KY/Python/blob/main/w6_quiz.ipynb\" target=\"_parent\"><img src=\"https://colab.research.google.com/assets/colab-badge.svg\" alt=\"Open In Colab\"/></a>"
      ]
    },
    {
      "cell_type": "code",
      "execution_count": 17,
      "metadata": {
        "colab": {
          "base_uri": "https://localhost:8080/"
        },
        "id": "fgr0YFekq9SY",
        "outputId": "baf382b1-e07a-47a3-ec61-adf715cf1c07"
      },
      "outputs": [
        {
          "output_type": "stream",
          "name": "stdout",
          "text": [
            "Floor: 6\n",
            "123456\n",
            " 23456\n",
            "  3456\n",
            "   456\n",
            "    56\n",
            "     6\n"
          ]
        }
      ],
      "source": [
        "# Q1\n",
        "\n",
        "# while True:\n",
        "floor = int(input(\"Floor: \"))\n",
        "for i in range(floor, 0, -1):\n",
        "    for k in range(0, floor - i, 1):\n",
        "        print(\" \", end = \"\")\n",
        "    for j in range(floor-i, floor, 1):\n",
        "        print(j+1, end = \"\")\n",
        "    print()"
      ]
    },
    {
      "cell_type": "code",
      "source": [
        "import random\n",
        "num_list = []\n",
        "for i in range(0,100):\n",
        "    number = random.randint(1,15)\n",
        "    # print(number)\n",
        "    if number in (num_list):\n",
        "        continue;\n",
        "    num_list.append(number)\n",
        "    if len(num_list) > 6:\n",
        "        break\n",
        "print(\"랜덤 숫자 7개: \", num_list)\n",
        "\n",
        "print(\"짝수번째 값들: \", end = '') \n",
        "for i in range(1,7,2):\n",
        "    print(num_list[i], end = ' ')"
      ],
      "metadata": {
        "colab": {
          "base_uri": "https://localhost:8080/"
        },
        "id": "ptnYy6zptuTi",
        "outputId": "9a29a8a4-fc14-422e-c1a2-0fff9790ce37"
      },
      "execution_count": 59,
      "outputs": [
        {
          "output_type": "stream",
          "name": "stdout",
          "text": [
            "랜덤 숫자 7개:  [3, 9, 1, 10, 2, 15, 4]\n",
            "짝수번째 값들: 9 10 15 "
          ]
        }
      ]
    },
    {
      "cell_type": "code",
      "source": [
        "score_list = [100, 52, 74, 98, 89, 83, 91, 90, 72, 79]\n",
        "for i in range (0, 10, 1):\n",
        "    # if score_list[i] % 10 != 0:\n",
        "    score_list[i] = score_list[i]//10\n",
        "    \n",
        "print(score_list)\n",
        "for i in range(0,10, 1):\n",
        "    if score_list.count(i) != 0:\n",
        "        print(f\"{i*10} ~ {(i+1)*10} : \", score_list.count(i))\n",
        "# print(\"50 ~ 60 : \", score_list.count(5))\n",
        "# print(\"50 ~ 60 : \", score_list.count(7))\n",
        "# print(\"50 ~ 60 : \", score_list.count(8))\n",
        "# print(\"50 ~ 60 : \", score_list.count(9))\n",
        "print('perfect: ', score_list.count(10))\n",
        "\n"
      ],
      "metadata": {
        "colab": {
          "base_uri": "https://localhost:8080/"
        },
        "id": "cH3ppbdVt3O9",
        "outputId": "2c4dc174-9a5f-4b96-ebf2-e40571fd19b8"
      },
      "execution_count": 71,
      "outputs": [
        {
          "output_type": "stream",
          "name": "stdout",
          "text": [
            "[10, 5, 7, 9, 8, 8, 9, 9, 7, 7]\n",
            "50 ~ 60 :  1\n",
            "70 ~ 80 :  3\n",
            "80 ~ 90 :  2\n",
            "90 ~ 100 :  3\n",
            "perfect:  1\n"
          ]
        }
      ]
    },
    {
      "cell_type": "code",
      "source": [],
      "metadata": {
        "id": "4bhqcLJGygU2"
      },
      "execution_count": null,
      "outputs": []
    }
  ]
}