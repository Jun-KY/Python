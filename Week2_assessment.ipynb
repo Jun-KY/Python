{
  "nbformat": 4,
  "nbformat_minor": 0,
  "metadata": {
    "colab": {
      "provenance": [],
      "collapsed_sections": [],
      "toc_visible": true,
      "authorship_tag": "ABX9TyO5OH2klGzTKXotwgARRBVB",
      "include_colab_link": true
    },
    "kernelspec": {
      "name": "python3",
      "display_name": "Python 3"
    },
    "language_info": {
      "name": "python"
    }
  },
  "cells": [
    {
      "cell_type": "markdown",
      "metadata": {
        "id": "view-in-github",
        "colab_type": "text"
      },
      "source": [
        "<a href=\"https://colab.research.google.com/github/Jun-KY/Python/blob/main/Week2_assessment.ipynb\" target=\"_parent\"><img src=\"https://colab.research.google.com/assets/colab-badge.svg\" alt=\"Open In Colab\"/></a>"
      ]
    },
    {
      "cell_type": "code",
      "execution_count": null,
      "metadata": {
        "id": "tm_Ow4Tc3i0r"
      },
      "outputs": [],
      "source": [
        "# 3 test\n",
        "\n",
        "money = int(input(\"Given money: \"))\n",
        "\n",
        "rest = money-3550\n",
        "print(f\"Rest mondy: {rest} Won\" )\n",
        "print(\"500 Won:\", int(rest/500))\n",
        "rest = rest%500\n",
        "print(\"100 Won:\", int(rest/100))\n",
        "rest = (rest%100)\n",
        "print(\"50 Won:\", int(rest/50))\n",
        "\n"
      ]
    },
    {
      "cell_type": "code",
      "source": [
        "# 3 test\n",
        "\n",
        "alp = input(\"알파벳을 입력하세요 : \")\n",
        "\n",
        "message = \"대문자 입니다.\" if ord(alp) >=65 and ord(alp) <=90 else \"소문자 입니다.\"\n",
        "print(f\"당신이 입력한 문자 {alp}는 {message}\")"
      ],
      "metadata": {
        "id": "DYILTnrEIwYH"
      },
      "execution_count": null,
      "outputs": []
    }
  ]
}