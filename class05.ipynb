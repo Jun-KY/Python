{
  "nbformat": 4,
  "nbformat_minor": 0,
  "metadata": {
    "colab": {
      "provenance": [],
      "collapsed_sections": [],
      "authorship_tag": "ABX9TyM3q5ZJ+evkIugBIqrrNF54",
      "include_colab_link": true
    },
    "kernelspec": {
      "name": "python3",
      "display_name": "Python 3"
    },
    "language_info": {
      "name": "python"
    }
  },
  "cells": [
    {
      "cell_type": "markdown",
      "metadata": {
        "id": "view-in-github",
        "colab_type": "text"
      },
      "source": [
        "<a href=\"https://colab.research.google.com/github/Jun-KY/Python/blob/main/class05.ipynb\" target=\"_parent\"><img src=\"https://colab.research.google.com/assets/colab-badge.svg\" alt=\"Open In Colab\"/></a>"
      ]
    },
    {
      "cell_type": "code",
      "source": [
        "# 6. 중첩 반복문문"
      ],
      "metadata": {
        "id": "YkVtBcJ08yLT"
      },
      "execution_count": null,
      "outputs": []
    },
    {
      "cell_type": "code",
      "execution_count": null,
      "metadata": {
        "colab": {
          "base_uri": "https://localhost:8080/"
        },
        "id": "NNNlkc-AjBLW",
        "outputId": "79f1210d-0464-45b7-99c5-05918ad8628d"
      },
      "outputs": [
        {
          "output_type": "stream",
          "name": "stdout",
          "text": [
            "A\n",
            "A B\n",
            "A B C\n",
            "A B C D\n",
            "A B C D E\n",
            "1\n",
            "1 2\n",
            "1 2 3\n",
            "1 2 3 4\n",
            "1 2 3 4 5\n",
            "1 \n",
            "1 2 \n",
            "1 2 3 \n",
            "1 2 3 4 \n",
            "1 2 3 4 5 \n"
          ]
        }
      ],
      "source": [
        "for i in range(1,6,1):\n",
        "    # for j in range(1,i+1,1): \n",
        "    print(\" \".join(chr(j+64) for j in range(1,i+1,1)))\n",
        "\n",
        "for i in range(1,6,1):\n",
        "    print(\" \".join(str(j) for j in range(1,i+1,1)))\n",
        "\n",
        "for i in range(1,6,1):\n",
        "    for j in range(1,i+1,1):\n",
        "        print(j, end=\" \")\n",
        "    print()"
      ]
    },
    {
      "cell_type": "code",
      "source": [
        "j = ord('A')\n",
        "z = (1,2,3,4,5)\n",
        "for i in z:\n",
        "    print(\" \".join(chr(j) for j in range(1,i+1)))"
      ],
      "metadata": {
        "colab": {
          "base_uri": "https://localhost:8080/"
        },
        "id": "HzteqQsukz5i",
        "outputId": "385c2ed3-6db1-41f4-f675-1be9548ee5c9"
      },
      "execution_count": null,
      "outputs": [
        {
          "output_type": "stream",
          "name": "stdout",
          "text": [
            "\u0001\n",
            "\u0001 \u0002\n",
            "\u0001 \u0002 \u0003\n",
            "\u0001 \u0002 \u0003 \u0004\n",
            "\u0001 \u0002 \u0003 \u0004 \u0005\n"
          ]
        }
      ]
    },
    {
      "cell_type": "code",
      "source": [
        "for i in range(5,0,-1):\n",
        "    for j in range(5,5-i,-1):\n",
        "        print(j, end =\" \")\n",
        "    print()\n",
        "    "
      ],
      "metadata": {
        "colab": {
          "base_uri": "https://localhost:8080/"
        },
        "id": "15NV57symLyx",
        "outputId": "e78fc695-7b0f-410d-f691-a142dcb9e790"
      },
      "execution_count": null,
      "outputs": [
        {
          "output_type": "stream",
          "name": "stdout",
          "text": [
            "5 4 3 2 1 \n",
            "5 4 3 2 \n",
            "5 4 3 \n",
            "5 4 \n",
            "5 \n"
          ]
        }
      ]
    },
    {
      "cell_type": "code",
      "source": [
        "for i in range(5, 0, -1):\n",
        "    for j in range(i, 0, -1):\n",
        "        print(j, end = \" \")\n",
        "    print()\n"
      ],
      "metadata": {
        "colab": {
          "base_uri": "https://localhost:8080/"
        },
        "id": "1oWTqNXRvNCU",
        "outputId": "7d9b2198-55fd-4b1a-c864-8274fbedf23e"
      },
      "execution_count": null,
      "outputs": [
        {
          "output_type": "stream",
          "name": "stdout",
          "text": [
            "5 4 3 2 1 \n",
            "4 3 2 1 \n",
            "3 2 1 \n",
            "2 1 \n",
            "1 \n"
          ]
        }
      ]
    },
    {
      "cell_type": "code",
      "source": [
        "for i in range(11):\n",
        "    print(f\"숫자:{i}\")\n",
        "    if i>3:\n",
        "        break\n",
        "    else:\n",
        "        print(f\"\\t제곱근:{i*i}\")"
      ],
      "metadata": {
        "colab": {
          "base_uri": "https://localhost:8080/"
        },
        "id": "JtryC1vWzAR0",
        "outputId": "25182de1-1664-4b14-8ec7-4c62d0d4d003"
      },
      "execution_count": null,
      "outputs": [
        {
          "output_type": "stream",
          "name": "stdout",
          "text": [
            "숫자:0\n",
            "\t제곱근:0\n",
            "숫자:1\n",
            "\t제곱근:1\n",
            "숫자:2\n",
            "\t제곱근:4\n",
            "숫자:3\n",
            "\t제곱근:9\n",
            "숫자:4\n"
          ]
        }
      ]
    },
    {
      "cell_type": "code",
      "source": [
        "num = int(input(\"Number: \"))\n",
        "for i in range(num):\n",
        "    print(i, end=\" \")\n",
        "    if i==5:\n",
        "        break"
      ],
      "metadata": {
        "colab": {
          "base_uri": "https://localhost:8080/"
        },
        "id": "jmeH27XXzSDH",
        "outputId": "bf8f2d22-2289-4ae0-9bed-5c88d0b782bd"
      },
      "execution_count": null,
      "outputs": [
        {
          "output_type": "stream",
          "name": "stdout",
          "text": [
            "Number: 10\n",
            "0 1 2 3 4 5 "
          ]
        }
      ]
    },
    {
      "cell_type": "code",
      "source": [
        "num = 1\n",
        "sum = 0\n",
        "while num != 0:\n",
        "    num = int(input(\"Number: \"))\n",
        "    sum += num\n",
        "print(\"합계:\",sum)"
      ],
      "metadata": {
        "colab": {
          "base_uri": "https://localhost:8080/"
        },
        "id": "3cg60Dp4z1qt",
        "outputId": "ddc50147-6d42-4d7a-c9da-22d1150810c1"
      },
      "execution_count": null,
      "outputs": [
        {
          "output_type": "stream",
          "name": "stdout",
          "text": [
            "Number: 5\n",
            "Number: 4\n",
            "Number: 1\n",
            "Number: 6\n",
            "Number: 0\n",
            "합계: 16\n"
          ]
        }
      ]
    },
    {
      "cell_type": "code",
      "source": [
        "count = 1\n",
        "ani = \"코알라\"\n",
        "while True:\n",
        "    mal = input(\"내가 좋아하는 동물? \")\n",
        "    if ani == mal:\n",
        "        break\n",
        "    count += 1\n",
        "print(f\"{count}회만에 정담을 맞추셨습니다.\")"
      ],
      "metadata": {
        "colab": {
          "base_uri": "https://localhost:8080/"
        },
        "id": "dqAJp1vB0fGs",
        "outputId": "c3e51909-7a42-4abb-b2fa-838cf9b7e78d"
      },
      "execution_count": null,
      "outputs": [
        {
          "output_type": "stream",
          "name": "stdout",
          "text": [
            "내가 좋아하는 동물? 사흠\n",
            "내가 좋아하는 동물? 소할이\n",
            "내가 좋아하는 동물? ㄹ사자\n",
            "내가 좋아하는 동물? 코알라\n",
            "4회만에 정담을 맞추셨습니다.\n"
          ]
        }
      ]
    },
    {
      "cell_type": "code",
      "source": [
        "i = 0\n",
        "while i < 10:\n",
        "    i += 1\n",
        "\n",
        "    if i % 2 == 0:\n",
        "        continue\n",
        "    print(i)\n",
        "\n",
        "print()\n",
        "str = \"Python_Programming\"\n",
        "for i in str:\n",
        "    if(i == '_'):\n",
        "        continue\n",
        "    print(i, end=\"\")"
      ],
      "metadata": {
        "colab": {
          "base_uri": "https://localhost:8080/"
        },
        "id": "3sMOxeuL1pap",
        "outputId": "3cce6333-65ab-4666-f73d-c2a36e4bb092"
      },
      "execution_count": null,
      "outputs": [
        {
          "output_type": "stream",
          "name": "stdout",
          "text": [
            "1\n",
            "3\n",
            "5\n",
            "7\n",
            "9\n",
            "\n",
            "PythonProgramming"
          ]
        }
      ]
    },
    {
      "cell_type": "code",
      "source": [
        "num = [15,23,42,50,22,31,1]\n",
        "for i in num:\n",
        "    if i % 2 == 0:\n",
        "        continue\n",
        "    print(i, end = ' ')"
      ],
      "metadata": {
        "colab": {
          "base_uri": "https://localhost:8080/"
        },
        "id": "3buLNjZK2PSK",
        "outputId": "3a4d5ca9-3922-4f5a-8204-1d931c7ee0fb"
      },
      "execution_count": null,
      "outputs": [
        {
          "output_type": "stream",
          "name": "stdout",
          "text": [
            "15 23 31 1 "
          ]
        }
      ]
    },
    {
      "cell_type": "code",
      "source": [
        "sum = 0\n",
        "for i in range (5):\n",
        "    num = int(input('Number: '))\n",
        "    if num < 0:\n",
        "        continue\n",
        "    sum += num\n",
        "print(\"Sum of positive numbers: \", sum)\n"
      ],
      "metadata": {
        "colab": {
          "base_uri": "https://localhost:8080/"
        },
        "id": "8rIBtxGN2ku0",
        "outputId": "68b6032b-c5a5-4855-c386-139aac96ccd6"
      },
      "execution_count": null,
      "outputs": [
        {
          "output_type": "stream",
          "name": "stdout",
          "text": [
            "Number: 15\n",
            "Number: -3\n",
            "Number: 20\n",
            "Number: -20\n",
            "Number: 15\n",
            "Sum of positive numbers:  50\n"
          ]
        }
      ]
    },
    {
      "cell_type": "code",
      "source": [
        "# 7. 자료형1 (리스트)"
      ],
      "metadata": {
        "id": "7ngbAqSH8qOF"
      },
      "execution_count": null,
      "outputs": []
    },
    {
      "cell_type": "code",
      "source": [
        "numList = []        #빈 리스트\n",
        "numList = [10, 20, 30, 40, 50]  #숫자 리스트 변수\n",
        "strList = ['SBS', 'KBS', 'MBC', 'TVN']  #문자열 데이터 리스트 변수\n",
        "milkiest = [10, 'KBS', 120.15, True, False] # 혼합형 데이터 리스트 변수\n",
        "\n",
        "# 단일 데이터 유형\n",
        "# integer - 정수형\n",
        "# float - 실수형\n",
        "# string - 문자형\n",
        "# boolean - 참거짓 논리형\n",
        "\n",
        "# 여러 항목의 값을 저장하는 데이터 유형\n",
        "# list : []\n",
        "# tuple : ()\n",
        "# dictionary: {}\n",
        "# set : {}\n",
        "\n"
      ],
      "metadata": {
        "id": "OGwnunQA84KQ"
      },
      "execution_count": null,
      "outputs": []
    },
    {
      "cell_type": "code",
      "source": [
        "num = [10,15, 20,25,30]\n",
        "sum = 0\n",
        "for i in num:\n",
        "    sum += i\n",
        "print(sum)"
      ],
      "metadata": {
        "colab": {
          "base_uri": "https://localhost:8080/"
        },
        "id": "tiFotEXA-LIX",
        "outputId": "8556c0ce-49f2-4de6-c98a-ab2547f5911c"
      },
      "execution_count": null,
      "outputs": [
        {
          "output_type": "stream",
          "name": "stdout",
          "text": [
            "100\n"
          ]
        }
      ]
    },
    {
      "cell_type": "code",
      "source": [
        "num = [1,2,3,3,4,5,6,7,2,3,8,9,10]\n",
        "print('3의 갯수:', num.count(3),'개')\n"
      ],
      "metadata": {
        "id": "dcbtWA82-V2c",
        "colab": {
          "base_uri": "https://localhost:8080/"
        },
        "outputId": "d9c07a26-864a-4f6b-93d4-2e795315e8f7"
      },
      "execution_count": 66,
      "outputs": [
        {
          "output_type": "stream",
          "name": "stdout",
          "text": [
            "3의 갯수: 3 개\n"
          ]
        }
      ]
    },
    {
      "cell_type": "code",
      "source": [
        "odd, even = 0, 0\n",
        "num = [15,23,18,47,23]\n",
        "for i in num:\n",
        "    if i % 2 == 0:\n",
        "        even+= 1\n",
        "    else:\n",
        "        odd += 1\n",
        "print(f'홀수 갯수: {odd}개\\n짝수 갯수: {even}개')"
      ],
      "metadata": {
        "colab": {
          "base_uri": "https://localhost:8080/"
        },
        "id": "NDyAMAuz_vvy",
        "outputId": "54866183-dff1-47bf-c5dc-2d2aaa6f4a00"
      },
      "execution_count": 69,
      "outputs": [
        {
          "output_type": "stream",
          "name": "stdout",
          "text": [
            "홀수 갯수: 4개\n",
            "짝수 갯수: 1개\n"
          ]
        }
      ]
    },
    {
      "cell_type": "code",
      "source": [
        "#리스트 만들기\n",
        "numList = []\n",
        "\n",
        "#\n",
        "\n",
        "strList = list()\n"
      ],
      "metadata": {
        "id": "fP6IQsBcAQGr"
      },
      "execution_count": 70,
      "outputs": []
    },
    {
      "cell_type": "code",
      "source": [
        "#리스트 추가\n",
        "numList = []\n",
        "numList.append (5)\n",
        "\n",
        "numList = [30, 5, 11, 3]\n",
        "numList.append(20)\n",
        "print(numList)\n",
        "numList.insert(5, 50)\n",
        "print(numList)"
      ],
      "metadata": {
        "colab": {
          "base_uri": "https://localhost:8080/"
        },
        "id": "me8hjitGAcf1",
        "outputId": "68d3636a-605f-4233-f1c0-26c62bc68787"
      },
      "execution_count": 78,
      "outputs": [
        {
          "output_type": "stream",
          "name": "stdout",
          "text": [
            "[30, 5, 11, 3, 20]\n",
            "[30, 5, 11, 3, 20, 50]\n"
          ]
        }
      ]
    },
    {
      "cell_type": "code",
      "source": [
        "#리스트 합치기\n",
        "numA = [1,2,3]\n",
        "numB = [10,20,30]\n",
        "numA.extend(numB)\n",
        "numA\n",
        "\n",
        "num1 = [5,10,15]\n",
        "num2 = [20,25,30]\n",
        "# num1.insert((3,4,5), num2)\n",
        "num1"
      ],
      "metadata": {
        "colab": {
          "base_uri": "https://localhost:8080/"
        },
        "id": "uAXCnbovAjnD",
        "outputId": "9c652425-6d44-46e7-e9ff-dabf98b236e1"
      },
      "execution_count": 83,
      "outputs": [
        {
          "output_type": "execute_result",
          "data": {
            "text/plain": [
              "[5, 10, 15]"
            ]
          },
          "metadata": {},
          "execution_count": 83
        }
      ]
    },
    {
      "cell_type": "code",
      "source": [
        "# 숫자 자료형\n",
        "\n",
        "a = 0xF\n",
        "type(a)\n",
        "\n",
        "b = 0o25\n",
        "type(b)\n",
        "\n",
        "c = 0b0010\n",
        "type(c)\n",
        "\n",
        "# 문자 자료형\n",
        "\n",
        "d = \"Python\"\n",
        "type(d)\n",
        "\n",
        "e = 'Programming'\n",
        "type(e)"
      ],
      "metadata": {
        "colab": {
          "base_uri": "https://localhost:8080/"
        },
        "id": "91c57GxNBhQM",
        "outputId": "9c37db38-9245-4a6b-b890-f31c9986290c"
      },
      "execution_count": 87,
      "outputs": [
        {
          "output_type": "execute_result",
          "data": {
            "text/plain": [
              "str"
            ]
          },
          "metadata": {},
          "execution_count": 87
        }
      ]
    },
    {
      "cell_type": "code",
      "source": [
        "#리스트 자료형\n",
        "\n",
        "grade_list = [90,85,70,85,90]\n",
        "print(grade_list)\n",
        "\n"
      ],
      "metadata": {
        "colab": {
          "base_uri": "https://localhost:8080/"
        },
        "id": "P5_misJBCY9R",
        "outputId": "d874ff93-5460-4769-e61a-46acfd9a814a"
      },
      "execution_count": 89,
      "outputs": [
        {
          "output_type": "stream",
          "name": "stdout",
          "text": [
            "[90, 85, 70, 85, 90]\n"
          ]
        }
      ]
    },
    {
      "cell_type": "code",
      "source": [
        "# 리스트 슬라이싱\n",
        "alphaList = ['a','b','c','d','e','f','g','h']\n",
        "alphaList[1]\n",
        "alphaList[-1]       # 오른쪽에서 1번째 \n",
        "alphaList[-2]       \n",
        "\n",
        "\n",
        "# 리스트 변수명[시작 : 종료]\n",
        "print(alphaList[0:])\n",
        "print(alphaList[:-1])\n",
        "print(alphaList[:7])\n",
        "print(alphaList[3:7])"
      ],
      "metadata": {
        "colab": {
          "base_uri": "https://localhost:8080/"
        },
        "id": "3ZYBuRprCine",
        "outputId": "a5dcf7af-3c65-4125-ebc7-418c5a7ce74f"
      },
      "execution_count": 95,
      "outputs": [
        {
          "output_type": "stream",
          "name": "stdout",
          "text": [
            "['a', 'b', 'c', 'd', 'e', 'f', 'g', 'h']\n",
            "['a', 'b', 'c', 'd', 'e', 'f', 'g']\n",
            "['a', 'b', 'c', 'd', 'e', 'f', 'g']\n",
            "['d', 'e', 'f', 'g']\n"
          ]
        }
      ]
    },
    {
      "cell_type": "code",
      "source": [
        "alphaList = ['a','b','c','d','e','f','g','h']\n",
        "print(alphaList[4])\n",
        "print(alphaList[-5])\n",
        "\n",
        "print(alphaList[2:6])\n",
        "print(alphaList[-6:6])"
      ],
      "metadata": {
        "colab": {
          "base_uri": "https://localhost:8080/"
        },
        "id": "YJ8vwHPFDk17",
        "outputId": "38d44b59-3d27-499e-fad9-d0f598b8cf8d"
      },
      "execution_count": 106,
      "outputs": [
        {
          "output_type": "stream",
          "name": "stdout",
          "text": [
            "e\n",
            "d\n",
            "['c', 'd', 'e', 'f']\n",
            "['c', 'd', 'e', 'f']\n"
          ]
        }
      ]
    },
    {
      "cell_type": "code",
      "source": [
        "# 리스트 데이터 정렬하기\n",
        "\n",
        "# sort()\n",
        "\n",
        "# 리스트 자료형에서만 사용할 수 있다.\n",
        "# 리스트변수.sort() 정렬 시 리스트 항목이 정렬된 내용으로 새롭게 저장된다.\n",
        "# sorted() 정렬 보다 빠르다.\n",
        "# reverse = True 옵션으로 매개변수를 전달하면 내림차순 정렬이 가능하다.\n",
        "\n",
        "\n",
        "# sorted()\n",
        "\n",
        "# 리스트, 문자열, 튜플, 딕셔너리 자료형에서 폭 넓게 사용 할 수 있다.\n",
        "# sorted() 명령 적용 시 정렬은 표시 되지만 리스트 원래 항목에 대한 정렬 변화는 저장되지 않는다.\n",
        "# 정렬된 새로운 리스트를 반환한다.\n",
        "# sort()에 비해 매개변수가 하나 더 추가되면 reverse 매개변수로 True를 전달하면 내림차순 정렬이 가능하다.\n"
      ],
      "metadata": {
        "id": "8t99Scn8DANv"
      },
      "execution_count": 107,
      "outputs": []
    },
    {
      "cell_type": "code",
      "source": [
        "numList=[43,12,3,7,72,25]\n",
        "numList.sort()\n",
        "print(numList)\n",
        "\n",
        "strList=['K','C','t','E','b','a','M']\n",
        "strList = sorted(strList)\n",
        "# strList = sorted(strList, reverse = True )\n",
        "print(strList)"
      ],
      "metadata": {
        "colab": {
          "base_uri": "https://localhost:8080/"
        },
        "id": "vWP9mnOfFLok",
        "outputId": "3b05880e-44ad-4bf0-c175-533e9e352295"
      },
      "execution_count": 119,
      "outputs": [
        {
          "output_type": "stream",
          "name": "stdout",
          "text": [
            "[3, 7, 12, 25, 43, 72]\n",
            "['C', 'E', 'K', 'M', 'a', 'b', 't']\n"
          ]
        }
      ]
    },
    {
      "cell_type": "code",
      "source": [
        "numList = [11,23,5,7,15,9,8]\n",
        "numList = sorted(numList, reverse = True)\n",
        "numList"
      ],
      "metadata": {
        "colab": {
          "base_uri": "https://localhost:8080/"
        },
        "id": "qjCvk1BQHLDE",
        "outputId": "7fe474b3-c36e-4c38-ddc4-254ac96a2fdb"
      },
      "execution_count": 122,
      "outputs": [
        {
          "output_type": "execute_result",
          "data": {
            "text/plain": [
              "[23, 15, 11, 9, 8, 7, 5]"
            ]
          },
          "metadata": {},
          "execution_count": 122
        }
      ]
    },
    {
      "cell_type": "code",
      "source": [
        "# 복제\n",
        "score = [90,85,100,75,95]\n",
        "copyScore = score\n",
        "score.append(100)\n",
        "print(copyScore)\n",
        "print(score)\n",
        "\n",
        "# 독립적\n",
        "score = [90,85,100,75,95]\n",
        "copyScore = list(score)\n",
        "score.append(100)\n",
        "print(copyScore)\n",
        "print(score)"
      ],
      "metadata": {
        "colab": {
          "base_uri": "https://localhost:8080/"
        },
        "id": "WexItwY0HjrR",
        "outputId": "8f50bac1-9e27-4001-a824-3ce4cc59bb68"
      },
      "execution_count": 126,
      "outputs": [
        {
          "output_type": "stream",
          "name": "stdout",
          "text": [
            "[90, 85, 100, 75, 95, 100]\n",
            "[90, 85, 100, 75, 95, 100]\n",
            "[90, 85, 100, 75, 95]\n",
            "[90, 85, 100, 75, 95, 100]\n"
          ]
        }
      ]
    },
    {
      "cell_type": "code",
      "source": [
        "flower = ['장미', '백합', '튤립', '국화', '수선화']\n",
        "for i in flower:\n",
        "    if(len(i)==3):\n",
        "        # print(len(i))\n",
        "        print(i)\n",
        "\n",
        "flower.append('해바라기')\n",
        "flower.sort(key=len, reverse = True)\n",
        "print (flower)"
      ],
      "metadata": {
        "colab": {
          "base_uri": "https://localhost:8080/"
        },
        "id": "axQhDJrkIIDh",
        "outputId": "98a8fb98-9cfa-4864-a99b-aaa99a576080"
      },
      "execution_count": 144,
      "outputs": [
        {
          "output_type": "stream",
          "name": "stdout",
          "text": [
            "수선화\n",
            "['해바라기', '수선화', '장미', '백합', '튤립', '국화']\n"
          ]
        }
      ]
    }
  ]
}