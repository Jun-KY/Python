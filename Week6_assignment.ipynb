{
  "nbformat": 4,
  "nbformat_minor": 0,
  "metadata": {
    "colab": {
      "provenance": [],
      "collapsed_sections": [],
      "authorship_tag": "ABX9TyORoJfv7xYjfKhhQYrFDU3r",
      "include_colab_link": true
    },
    "kernelspec": {
      "name": "python3",
      "display_name": "Python 3"
    },
    "language_info": {
      "name": "python"
    }
  },
  "cells": [
    {
      "cell_type": "markdown",
      "metadata": {
        "id": "view-in-github",
        "colab_type": "text"
      },
      "source": [
        "<a href=\"https://colab.research.google.com/github/Jun-KY/Python/blob/main/Week6_assignment.ipynb\" target=\"_parent\"><img src=\"https://colab.research.google.com/assets/colab-badge.svg\" alt=\"Open In Colab\"/></a>"
      ]
    },
    {
      "cell_type": "code",
      "execution_count": 34,
      "metadata": {
        "colab": {
          "base_uri": "https://localhost:8080/"
        },
        "id": "239N_F42PR7l",
        "outputId": "54eb2477-ef0d-49ec-f6f8-975d1b987cf6"
      },
      "outputs": [
        {
          "output_type": "stream",
          "name": "stdout",
          "text": [
            "영화제목\t예매율\t\t순위\n",
            "========\t======\t\t====\n",
            "노타임투다이 \t 52.5 \t\t 1\n",
            "오징어게임 \t 50.45 \t\t 2\n",
            "이터널스 \t 35.46 \t\t 3\n",
            "스파이더맨 \t 15.47 \t\t 4\n",
            "그레비티 \t 9.8 \t\t 5\n"
          ]
        }
      ],
      "source": [
        "movie_list = [(\"오징어게임\",50.45),(\"이터널스\", 35.46), (\"그레비티\", 9.8), (\"노타임투다이\", 52.5),(\"스파이더맨\", 15.47)]\n",
        "movie_list = sorted(movie_list, key = lambda x:x[1], reverse = True)\n",
        "movie = {}\n",
        "for i,j in movie_list:\n",
        "    # movie{f\"i\": j} = movie_list[i,j]\n",
        "    movie[i] = j\n",
        "count = 1\n",
        "print(\"영화제목\\t예매율\\t\\t순위\\n========\\t======\\t\\t====\")\n",
        "for i in movie:\n",
        "    print(i,\"\\t\", movie[i], '\\t\\t', count)\n",
        "    count += 1"
      ]
    }
  ]
}