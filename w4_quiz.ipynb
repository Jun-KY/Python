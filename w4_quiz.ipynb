{
  "nbformat": 4,
  "nbformat_minor": 0,
  "metadata": {
    "colab": {
      "provenance": [],
      "collapsed_sections": [],
      "toc_visible": true,
      "authorship_tag": "ABX9TyOo5DNEs/9zD4isn6mz1uJI",
      "include_colab_link": true
    },
    "kernelspec": {
      "name": "python3",
      "display_name": "Python 3"
    },
    "language_info": {
      "name": "python"
    }
  },
  "cells": [
    {
      "cell_type": "markdown",
      "metadata": {
        "id": "view-in-github",
        "colab_type": "text"
      },
      "source": [
        "<a href=\"https://colab.research.google.com/github/Jun-KY/Python/blob/main/w4_quiz.ipynb\" target=\"_parent\"><img src=\"https://colab.research.google.com/assets/colab-badge.svg\" alt=\"Open In Colab\"/></a>"
      ]
    },
    {
      "cell_type": "code",
      "execution_count": 6,
      "metadata": {
        "colab": {
          "base_uri": "https://localhost:8080/"
        },
        "id": "soyO0Isjh_nQ",
        "outputId": "2217ddc8-d181-424a-c143-84cb65ceeadd"
      },
      "outputs": [
        {
          "output_type": "stream",
          "name": "stdout",
          "text": [
            "24\n",
            "Not Weird\n"
          ]
        }
      ],
      "source": [
        "# Quiz 1\n",
        "n = int(input())\n",
        "\n",
        "if 1<= n <=100:\n",
        "\n",
        "    if n % 2 == 1:\n",
        "        print('Weird')\n",
        "    elif 2<=n<=5:\n",
        "        print('Not Weird')\n",
        "    elif 6<= n <= 20:\n",
        "        print(\"Weird\")\n",
        "    else: \n",
        "        print(\"Not Weird\")\n",
        "else: \n",
        "    print(\"Out of range\")"
      ]
    },
    {
      "cell_type": "code",
      "source": [
        "# Quiz 2\n",
        "\n",
        "age = int(input(\"Enter Age: \"))\n",
        "sex = ord(input(\"Sex (M or F): \"))\n",
        "mar = ord(input(\"Marital status (Y or N): \"))\n",
        "\n",
        "if 20 <=age <60 and sex == (70 or 102):\n",
        "    stat = (\"work in urban only\")\n",
        "    print(f\"Age: {age}, Sex: {chr(sex)}, Marital status: {chr(mar)}, {stat}\")\n",
        "else:\n",
        "    if 20<=age<40 :\n",
        "        stat = 'Wokr in anywhere'\n",
        "        print(f\"Age: {age}, Sex: {chr(sex)}, Marital status: {chr(mar)}, {stat}\")\n",
        "    elif 40<=age<60:\n",
        "        stat = \"Work in urban areas only\"\n",
        "        print(f\"Age: {age}, Sex: {chr(sex)}, Marital status: {chr(mar)}, {stat}\")\n",
        "    else:\n",
        "        print(\"Error\")"
      ],
      "metadata": {
        "colab": {
          "base_uri": "https://localhost:8080/"
        },
        "id": "uXX39ugWjl_G",
        "outputId": "63a648ac-032e-40c5-9507-10b6f9b2af47"
      },
      "execution_count": 45,
      "outputs": [
        {
          "output_type": "stream",
          "name": "stdout",
          "text": [
            "Enter Age: 65\n",
            "Sex (M or F): m\n",
            "Marital status (Y or N): n\n",
            "Error\n"
          ]
        }
      ]
    },
    {
      "cell_type": "code",
      "source": [
        "# Quiz 3\n",
        "\n",
        "num = int(input(\"Number: \"))\n",
        "# i = 2\n",
        "# num1 = num - 1\n",
        "# for i in range (num):\n",
        "#     if num % num1 == 0:\n",
        "#         # print (num%num1, num1)\n",
        "#         res = 'Not prime number'\n",
        "#         break\n",
        "#     elif num % num1 > 0:\n",
        "#         # print (num%num1, num1)\n",
        "#         res = 'prime number'\n",
        "#         if num1<3:\n",
        "#             break\n",
        "#     num1 -= 1\n",
        "for i in range(num-1, 1, -1):\n",
        "    if num % i == 0:\n",
        "        res = 'Not prime number'\n",
        "        break\n",
        "    elif num % i > 0:\n",
        "        res = \"prime number\"\n",
        "\n",
        "\n",
        "print(f\"{num} is {res}\")\n"
      ],
      "metadata": {
        "colab": {
          "base_uri": "https://localhost:8080/"
        },
        "id": "gf3hMWetni25",
        "outputId": "6b4e717a-7977-4a12-d5b5-8ac426a6e7f0"
      },
      "execution_count": 61,
      "outputs": [
        {
          "output_type": "stream",
          "name": "stdout",
          "text": [
            "Number: 17\n",
            "17 is prime number\n"
          ]
        }
      ]
    },
    {
      "cell_type": "code",
      "source": [
        "#Quiz 4\n",
        " \n",
        "year = int(input(\"Year: \"))\n",
        "\n",
        "\n",
        "if year % 400 == 0:\n",
        "    res = \"Leap year\"\n",
        "elif year % 100 ==0:\n",
        "    res = \"Normal year\"\n",
        "elif year % 4 == 0:\n",
        "    res = \"Leap year\"\n",
        "\n",
        "print(f\"{year} is {res}\")"
      ],
      "metadata": {
        "colab": {
          "base_uri": "https://localhost:8080/"
        },
        "id": "7FNlyyTinoIk",
        "outputId": "8a17ea9c-5b0c-4f77-9a54-236b8e95a415"
      },
      "execution_count": 20,
      "outputs": [
        {
          "output_type": "stream",
          "name": "stdout",
          "text": [
            "Year: 2342\n",
            "2342 is Normal year\n"
          ]
        }
      ]
    },
    {
      "cell_type": "code",
      "source": [],
      "metadata": {
        "id": "ZwV41uPgoHJt"
      },
      "execution_count": null,
      "outputs": []
    }
  ]
}