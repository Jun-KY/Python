{
  "nbformat": 4,
  "nbformat_minor": 0,
  "metadata": {
    "colab": {
      "provenance": [],
      "collapsed_sections": [],
      "toc_visible": true,
      "authorship_tag": "ABX9TyNvDDrfmLginbiG7CgUybjG",
      "include_colab_link": true
    },
    "kernelspec": {
      "name": "python3",
      "display_name": "Python 3"
    },
    "language_info": {
      "name": "python"
    }
  },
  "cells": [
    {
      "cell_type": "markdown",
      "metadata": {
        "id": "view-in-github",
        "colab_type": "text"
      },
      "source": [
        "<a href=\"https://colab.research.google.com/github/Jun-KY/Python/blob/main/class02.ipynb\" target=\"_parent\"><img src=\"https://colab.research.google.com/assets/colab-badge.svg\" alt=\"Open In Colab\"/></a>"
      ]
    },
    {
      "cell_type": "code",
      "execution_count": null,
      "metadata": {
        "colab": {
          "base_uri": "https://localhost:8080/"
        },
        "id": "4E85XSZZ2Kka",
        "outputId": "f68fc563-8d5a-4598-e058-dbc9336f5376"
      },
      "outputs": [
        {
          "output_type": "stream",
          "name": "stdout",
          "text": [
            "정수 1을 입력하시오: 123\n",
            "정수 2을 입력하시오: 23\n",
            "123 23\n",
            "123과 23의 합은 146\n"
          ]
        }
      ],
      "source": [
        "# x = input()       - 문자열 입력\n",
        "# y = int(input())  - 정수 입력\n",
        "num1 = int(input(\"정수 1을 입력하시오: \"))\n",
        "num2 = int(input(\"정수 2을 입력하시오: \"))\n",
        "num1, num2\n",
        "print(num1, num2)\n",
        "print(f\"{num1}과 {num2}의 합은 {num1+num2}\")"
      ]
    },
    {
      "cell_type": "code",
      "source": [
        "# 이름과 생년월일을 받아 출력\n",
        "name = input(\"이름을 입력하시오: \")\n",
        "year, month, day = input(\"(띄어쓰기로 구분)\\n태어난 년, 월, 일을 입력하시오: \").split()\n",
        "print(f\"{name}은 {year}년 {month}월 {day}일에 태어났습니다.\")\n",
        "year, month, day = input(\"($로 구분)\\n태어난 년, 월, 일을 입력하시오: \").split('$')\n",
        "print(f\"{name}은 {year}년 {month}월 {day}일에 태어났습니다.\")\n",
        "print(int(year)+1)\n"
      ],
      "metadata": {
        "colab": {
          "base_uri": "https://localhost:8080/"
        },
        "id": "g0BZlfPt2VTO",
        "outputId": "35bd46b3-f40e-400b-9f58-40c411e1eca8"
      },
      "execution_count": null,
      "outputs": [
        {
          "output_type": "stream",
          "name": "stdout",
          "text": [
            "이름을 입력하시오: mac\n",
            "(띄어쓰기로 구분)\n",
            "태어난 년, 월, 일을 입력하시오: 2000 32 2\n",
            "mac은 2000년 32월 2일에 태어났습니다.\n",
            "($로 구분)\n",
            "태어난 년, 월, 일을 입력하시오: 1000$3$31\n",
            "mac은 1000년 3월 31일에 태어났습니다.\n",
            "1001\n"
          ]
        }
      ]
    },
    {
      "cell_type": "code",
      "source": [
        "#Get 3 different numbers and print their sum\n",
        "num1 = int(input(\"First number: \"))\n",
        "num2 = int(input(\"Second number: \"))\n",
        "num3 = int(input(\"Third number: \"))\n",
        "sum = num1+num2+num3\n",
        "print(f\"{num1} + {num2} + {num3} = {sum:,}\")"
      ],
      "metadata": {
        "colab": {
          "base_uri": "https://localhost:8080/"
        },
        "id": "__EXJ5mf2YaU",
        "outputId": "c74faa1a-ef24-4e04-f7ad-473712f8c8b7"
      },
      "execution_count": null,
      "outputs": [
        {
          "output_type": "stream",
          "name": "stdout",
          "text": [
            "First number: 123\n",
            "Second number: 23\n",
            "Third number: 12\n",
            "123 + 23 + 12 = 158\n"
          ]
        }
      ]
    },
    {
      "cell_type": "code",
      "source": [
        "kor = int(input(\"Korean: \"))\n",
        "eng = int(input(\"English: \"))\n",
        "math = int(input(\"Mathematic: \"))\n",
        "tot = kor+eng+math\n",
        "avg = tot/3\n",
        "print(f\"Total: {tot}\\nAverage: {avg:.2f}\")"
      ],
      "metadata": {
        "colab": {
          "base_uri": "https://localhost:8080/"
        },
        "id": "oBRBjJgN2bNV",
        "outputId": "eac532c0-6658-4dfc-8dbd-4d17f90151f1"
      },
      "execution_count": null,
      "outputs": [
        {
          "output_type": "stream",
          "name": "stdout",
          "text": [
            "Korean: 100\n",
            "English: 90\n",
            "Mathematic: 80\n",
            "Total: 270\n",
            "Average: 90.00\n"
          ]
        }
      ]
    },
    {
      "cell_type": "code",
      "source": [
        "# 16진수\n",
        "a = 0xF\n",
        "print(a)\n",
        "\n",
        "# 8진수\n",
        "a = 0o25\n",
        "print(a)\n",
        "\n",
        "# 2진수\n",
        "a = 0b0010\n",
        "print(a)\n"
      ],
      "metadata": {
        "colab": {
          "base_uri": "https://localhost:8080/"
        },
        "id": "RdhMEMId2cUF",
        "outputId": "b4658102-3b34-47c6-f0db-01a1bd7c67ac"
      },
      "execution_count": null,
      "outputs": [
        {
          "output_type": "stream",
          "name": "stdout",
          "text": [
            "15\n",
            "21\n",
            "2\n"
          ]
        }
      ]
    },
    {
      "cell_type": "code",
      "source": [
        "grade_list1=[]\n",
        "grade_list1.append(100)\n",
        "grade_list1.append(90)\n",
        "grade_list1.append(80)\n",
        "print(grade_list1)"
      ],
      "metadata": {
        "colab": {
          "base_uri": "https://localhost:8080/"
        },
        "id": "gfqYjdzZ2cxb",
        "outputId": "9bf29eac-0eba-4de3-f690-2977fbf04478"
      },
      "execution_count": null,
      "outputs": [
        {
          "output_type": "stream",
          "name": "stdout",
          "text": [
            "[100, 90, 80]\n"
          ]
        }
      ]
    },
    {
      "cell_type": "code",
      "source": [
        "# 2 exercise\n",
        "list_colour = [\"red\", \"blue\", \"orange\", \"green\", \"purple\"]\n",
        "# list_colour.pop(4)\n",
        "list_colour.pop()\n",
        "print(list_colour)\n",
        "# remove\n",
        "list_colour.remove(\"orange\")\n",
        "print(list_colour)\n",
        "# del\n",
        "del list_colour[0]\n",
        "print(list_colour)\n",
        "# clear\n",
        "list_colour.clear()\n",
        "print(list_colour)\n",
        "\n"
      ],
      "metadata": {
        "colab": {
          "base_uri": "https://localhost:8080/"
        },
        "id": "T5SYuZCc2fdI",
        "outputId": "9749bedd-6884-48d8-b94d-74f5a11509d8"
      },
      "execution_count": null,
      "outputs": [
        {
          "output_type": "stream",
          "name": "stdout",
          "text": [
            "['red', 'blue', 'orange', 'green']\n",
            "['red', 'blue', 'green']\n",
            "['blue', 'green']\n",
            "[]\n"
          ]
        }
      ]
    },
    {
      "cell_type": "code",
      "source": [
        "import os\n",
        "print(os.getcwd())"
      ],
      "metadata": {
        "colab": {
          "base_uri": "https://localhost:8080/"
        },
        "id": "yh_bDJHN2g5t",
        "outputId": "b25cd173-aa5b-43a3-f9a6-9ee376f86958"
      },
      "execution_count": null,
      "outputs": [
        {
          "output_type": "stream",
          "name": "stdout",
          "text": [
            "/content\n"
          ]
        }
      ]
    },
    {
      "cell_type": "code",
      "source": [
        "# 3 Exercise\n",
        "\n",
        "from logging import FileHandler\n",
        "\n",
        "\n",
        "num = (5 * 5 + 2*(25-5)/5)**2\n",
        "print(f\"{num:.1f}\")\n",
        "\n",
        "nu = int(input(\"Numerator: \"))\n",
        "de = int(input(\"Denominator: \"))\n",
        "quo = int(nu/de)\n",
        "rem = nu%de\n",
        "print(f\"Quotient = {quo}\\nRemainder= {rem}\")\n",
        "\n",
        "\n",
        "fah = int(input(\"Fahrenheit\"))\n",
        "cel = (fah-32.0)/1.8\n",
        "print(f\"Fahrenheit {fah}`F in Celsius is {cel:.2f}`C\")\n"
      ],
      "metadata": {
        "colab": {
          "base_uri": "https://localhost:8080/"
        },
        "id": "UAgdTixk2jSj",
        "outputId": "0dd470d0-2780-42e0-d55e-769379f3f3ea"
      },
      "execution_count": null,
      "outputs": [
        {
          "output_type": "stream",
          "name": "stdout",
          "text": [
            "1089.0\n",
            "Numerator: 13\n",
            "Denominator: 5\n",
            "Quotient = 2\n",
            "Remainder= 3\n",
            "72\n",
            "Fahrenheit 72`F in Celsius is 22.22`C\n"
          ]
        }
      ]
    },
    {
      "cell_type": "code",
      "source": [
        "# 3 test\n",
        "\n",
        "money = int(input(\"Given money: \"))\n",
        "\n",
        "rest = money-3550\n",
        "print(f\"Rest mondy: {rest} Won\" )\n",
        "print(\"500 Won:\", rest//500)\n",
        "rest = rest%500\n",
        "print(\"100 Won:\", int(rest/100))\n",
        "rest = (rest%100)\n",
        "print(\"50 Won:\", int(rest/50))\n",
        "\n"
      ],
      "metadata": {
        "colab": {
          "base_uri": "https://localhost:8080/"
        },
        "id": "TydaoisK2x4z",
        "outputId": "ca910af2-58ae-411d-ef69-0559f4f367cb"
      },
      "execution_count": null,
      "outputs": [
        {
          "output_type": "stream",
          "name": "stdout",
          "text": [
            "Given money: 10000\n",
            "Rest mondy: 6450 Won\n",
            "500 Won: 12\n",
            "100 Won: 4\n",
            "50 Won: 1\n"
          ]
        }
      ]
    },
    {
      "cell_type": "code",
      "source": [
        "str1 = \"Python\"\n",
        "str2 = \"Programming\"\n",
        "str3 = \"is\"\n",
        "str4 = \"a amazing Language.\"\n",
        "str = ''\n",
        "str+=str1\n",
        "str+=' '+str2\n",
        "str+=' '+str3\n",
        "str+=' '+str4\n",
        "print(str)\n",
        "str = ''\n",
        "str = str1+' '+str2+' '+str3+' '+str4\n",
        "print(str)\n"
      ],
      "metadata": {
        "colab": {
          "base_uri": "https://localhost:8080/"
        },
        "id": "JkX5ZbHR3Q5n",
        "outputId": "80a88248-f9f1-4b3b-b604-38ccd0281572"
      },
      "execution_count": null,
      "outputs": [
        {
          "output_type": "stream",
          "name": "stdout",
          "text": [
            "Python Programming is a amazing Language.\n",
            "Python Programming is a amazing Language.\n"
          ]
        }
      ]
    },
    {
      "cell_type": "code",
      "source": [
        "kor, eng, math = 90,80,100\n",
        "print(kor and eng and math >=80)\n",
        "print(kor>=80 and eng>=80 and math>=80)"
      ],
      "metadata": {
        "colab": {
          "base_uri": "https://localhost:8080/"
        },
        "id": "5va7PmxzCP1Z",
        "outputId": "ccf76538-73a7-418c-b8ff-5c5c99ab1fb0"
      },
      "execution_count": null,
      "outputs": [
        {
          "output_type": "stream",
          "name": "stdout",
          "text": [
            "True\n",
            "True\n"
          ]
        }
      ]
    },
    {
      "cell_type": "code",
      "source": [
        "# 비트 논리\n",
        "# 논리곱(&) - 2진법 1*1=1 0*1=0 \n",
        "print(4&6)\n",
        "print(bin(4%6))\n",
        "\n",
        "# 논리합(|) - 2진법 1+1=1 0+1=1 \n",
        "print(4|6)\n",
        "print(bin(4|6))\n",
        "\n",
        "# 배타적 합(^) - 2진법 1+1=0 0+1=1 \n",
        "print(4^6)\n",
        "print(bin(4^6))\n",
        "\n",
        "# 5 x 2^4\n",
        "print(5<<4)\n",
        "print(12<<2)\n",
        "print(12<<3)\n",
        "print(bin(12<<3))\n",
        "# 100 / 2^3\n",
        "print(100>>3)\n",
        "print(12>>2)\n",
        "print(bin(12>>2))"
      ],
      "metadata": {
        "id": "Gq9FezKpCRsC"
      },
      "execution_count": null,
      "outputs": []
    },
    {
      "cell_type": "code",
      "source": [
        "# 진법 계산\n",
        "print(bin(12))\n",
        "print(oct(12))\n",
        "print(hex(12))\n",
        "\n",
        "# format()\n",
        "num = 12\n",
        "print(\"%o\" %num)\n",
        "print(format(num,\"o\"))\n",
        "print(format(num,\"#o\"))\n",
        "\n",
        "print(\"%x\" %num)\n",
        "print(\"%#x\" %num)\n",
        "print(format(num,\"x\"))\n",
        "print(format(num,\"#x\"))"
      ],
      "metadata": {
        "id": "meMSw5ubCTqq"
      },
      "execution_count": null,
      "outputs": []
    },
    {
      "cell_type": "code",
      "source": [
        "num1, num2 = int(input(\"num: \")),int(input(\"left shift num: \"))\n",
        "ans = num1<<num2\n",
        "print(\"Left shift answer: {} << {} = {}\".format(num1, num2, ans))"
      ],
      "metadata": {
        "id": "LcNjGyHcCWIl"
      },
      "execution_count": null,
      "outputs": []
    },
    {
      "cell_type": "code",
      "source": [
        "num1 = 125\n",
        "num2 = 100\n",
        "num3 = 120\n",
        "max = num1 if num1 > num2 else num2\n",
        "max = num3 if num3 > max else max\n",
        "print(\"Max:\",max, sep ='')"
      ],
      "metadata": {
        "id": "DqYTOijDC7bI",
        "colab": {
          "base_uri": "https://localhost:8080/"
        },
        "outputId": "e621c4cc-5af5-41ce-c06a-b0cdb12562e9"
      },
      "execution_count": null,
      "outputs": [
        {
          "output_type": "stream",
          "name": "stdout",
          "text": [
            "Max:125\n"
          ]
        }
      ]
    },
    {
      "cell_type": "code",
      "source": [],
      "metadata": {
        "id": "s6jg5XShgqAO"
      },
      "execution_count": null,
      "outputs": []
    },
    {
      "cell_type": "code",
      "source": [
        "i = 0\n",
        "for i in range(0,2):\n",
        "    age = int(input(\"나이?: \"))\n",
        "    message = \"있습니다.\" if age>=16 else \"없습니다.\"\n",
        "    print(f\"나이: {age}\\n이 등급의 영화를 볼 수 \"+message)"
      ],
      "metadata": {
        "id": "ayGnWaI7geY6"
      },
      "execution_count": null,
      "outputs": []
    },
    {
      "cell_type": "code",
      "source": [
        "# Exercise\n",
        "i = 0\n",
        "for i in range(0,2):\n",
        "    num = int(input(\"Numbre: \"))\n",
        "    message = '3의 배수입니다.' if num % 3 == 0 else \"3의 배수가 아닙니다.\"\n",
        "    print(f\"당신이 입력한 숫자 {num}는 {message}\")"
      ],
      "metadata": {
        "id": "WLWEfSHHglAC"
      },
      "execution_count": null,
      "outputs": []
    },
    {
      "cell_type": "code",
      "source": [
        "# Exercise\n",
        "\n",
        "limit = 60000\n",
        "i = 0\n",
        "for i in range(0,2):\n",
        "    price = int(input(\"상품 가격 ?: \"))\n",
        "    message = True if price >= limit else False\n",
        "    print(f\"상품 가격: {price}\\n할인 대상: \", message)\n"
      ],
      "metadata": {
        "id": "-GMCXUpugjAY"
      },
      "execution_count": null,
      "outputs": []
    },
    {
      "cell_type": "code",
      "source": [
        "alp = ord(input(\"알파벳을 입력하시오: \"))\n",
        "# print (alp)\n",
        "if (65<=alp and alp<=90) or (97<=alp and alp<=122) :\n",
        "    message = \"대문자입니다.\" if (65<=alp and alp<=90) else \"소문자입니다.\"\n",
        "    print(f\"알파벳{chr(alp)}는 {message}\")\n",
        "else : \n",
        "    print(f\"{chr(alp)}는 알파벳이 아닙니다.\")    \n"
      ],
      "metadata": {
        "id": "amABQ52ZgWi9"
      },
      "execution_count": null,
      "outputs": []
    },
    {
      "cell_type": "code",
      "source": [
        "poketmoney=int(input(\"부모님으로 부터 받은 용돈: \"))\n",
        "change = poketmoney - 3550\n",
        "print(\"거스름돈:\" ,change)\n",
        "print(\"500원:\", int(change/500)); change = change % 500\n",
        "print(\"100원:\", int(change/100)); change = change % 100\n",
        "print(\" 50원:\", int(change/50))"
      ],
      "metadata": {
        "id": "IcFbZEcVgWHb"
      },
      "execution_count": null,
      "outputs": []
    },
    {
      "cell_type": "code",
      "source": [],
      "metadata": {
        "id": "zQMezKaNgcZI"
      },
      "execution_count": null,
      "outputs": []
    }
  ]
}